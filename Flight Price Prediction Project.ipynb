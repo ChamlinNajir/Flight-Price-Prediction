{
 "cells": [
  {
   "cell_type": "markdown",
   "id": "4211ae94",
   "metadata": {},
   "source": [
    "# Problem Statement :"
   ]
  },
  {
   "cell_type": "markdown",
   "id": "6872c207",
   "metadata": {},
   "source": [
    "Anyone who has booked a flight ticket knows how unexpectedly the prices vary. The cheapest available ticket on a given flight gets more and less expensive over time. This usually happens as an attempt to maximize revenue based on - \n",
    "1. Time of purchase patterns (making sure last-minute purchases are expensive) \n",
    "2. Keeping the flight as full as they want it (raising prices on a flight which is filling up in order to reduce sales and hold back inventory for those expensive last-minute expensive purchases)"
   ]
  },
  {
   "cell_type": "markdown",
   "id": "7e2372e6",
   "metadata": {},
   "source": [
    "# Aim :"
   ]
  },
  {
   "cell_type": "markdown",
   "id": "db96d3d4",
   "metadata": {},
   "source": [
    "To create a regression model to predict fares of flights."
   ]
  },
  {
   "cell_type": "code",
   "execution_count": 1,
   "id": "20a57360",
   "metadata": {},
   "outputs": [],
   "source": [
    "# Importing the first required libraries\n",
    "\n",
    "import pandas as pd\n",
    "import warnings\n",
    "warnings.filterwarnings('ignore')"
   ]
  },
  {
   "cell_type": "markdown",
   "id": "f76cb148",
   "metadata": {},
   "source": [
    "And rest of the libraries will be imported according to our requirements as we proceed further into the project"
   ]
  },
  {
   "cell_type": "code",
   "execution_count": 2,
   "id": "10b5f8d9",
   "metadata": {},
   "outputs": [],
   "source": [
    "# Getting the dataset\n",
    "\n",
    "df=pd.read_excel(\"Flight.xlsx\")"
   ]
  },
  {
   "cell_type": "code",
   "execution_count": 3,
   "id": "7b281165",
   "metadata": {},
   "outputs": [
    {
     "data": {
      "text/html": [
       "<div>\n",
       "<style scoped>\n",
       "    .dataframe tbody tr th:only-of-type {\n",
       "        vertical-align: middle;\n",
       "    }\n",
       "\n",
       "    .dataframe tbody tr th {\n",
       "        vertical-align: top;\n",
       "    }\n",
       "\n",
       "    .dataframe thead th {\n",
       "        text-align: right;\n",
       "    }\n",
       "</style>\n",
       "<table border=\"1\" class=\"dataframe\">\n",
       "  <thead>\n",
       "    <tr style=\"text-align: right;\">\n",
       "      <th></th>\n",
       "      <th>Airline</th>\n",
       "      <th>Source</th>\n",
       "      <th>Destination</th>\n",
       "      <th>Dep_Time</th>\n",
       "      <th>Arrival_Time</th>\n",
       "      <th>Duration</th>\n",
       "      <th>Total_Stops</th>\n",
       "      <th>price</th>\n",
       "    </tr>\n",
       "  </thead>\n",
       "  <tbody>\n",
       "    <tr>\n",
       "      <th>0</th>\n",
       "      <td>IndiGo\\n6E-137/2046</td>\n",
       "      <td>Jammu</td>\n",
       "      <td>Mumbai</td>\n",
       "      <td>11:55</td>\n",
       "      <td>19:25</td>\n",
       "      <td>7h 30m</td>\n",
       "      <td>2 Stop(s)</td>\n",
       "      <td>7,365</td>\n",
       "    </tr>\n",
       "    <tr>\n",
       "      <th>1</th>\n",
       "      <td>IndiGo\\n6E-137/5041</td>\n",
       "      <td>Jammu</td>\n",
       "      <td>Mumbai</td>\n",
       "      <td>11:55</td>\n",
       "      <td>20:50</td>\n",
       "      <td>8h 55m</td>\n",
       "      <td>2 Stop(s)</td>\n",
       "      <td>7,365</td>\n",
       "    </tr>\n",
       "    <tr>\n",
       "      <th>2</th>\n",
       "      <td>IndiGo\\n6E-609/6722</td>\n",
       "      <td>Jammu</td>\n",
       "      <td>Mumbai</td>\n",
       "      <td>14:00</td>\n",
       "      <td>23:30</td>\n",
       "      <td>9h 30m</td>\n",
       "      <td>2 Stop(s)</td>\n",
       "      <td>7,365</td>\n",
       "    </tr>\n",
       "    <tr>\n",
       "      <th>3</th>\n",
       "      <td>IndiGo\\n6E-137/6722</td>\n",
       "      <td>Jammu</td>\n",
       "      <td>Mumbai</td>\n",
       "      <td>11:55</td>\n",
       "      <td>23:30</td>\n",
       "      <td>11h 35m</td>\n",
       "      <td>2 Stop(s)</td>\n",
       "      <td>7,365</td>\n",
       "    </tr>\n",
       "    <tr>\n",
       "      <th>4</th>\n",
       "      <td>SpiceJet\\nSG-160/945</td>\n",
       "      <td>Jammu</td>\n",
       "      <td>Mumbai</td>\n",
       "      <td>11:15</td>\n",
       "      <td>16:15</td>\n",
       "      <td>5h 00m</td>\n",
       "      <td>1 Stop</td>\n",
       "      <td>7,418</td>\n",
       "    </tr>\n",
       "  </tbody>\n",
       "</table>\n",
       "</div>"
      ],
      "text/plain": [
       "                Airline Source Destination Dep_Time Arrival_Time Duration  \\\n",
       "0   IndiGo\\n6E-137/2046  Jammu      Mumbai    11:55        19:25   7h 30m   \n",
       "1   IndiGo\\n6E-137/5041  Jammu      Mumbai    11:55        20:50   8h 55m   \n",
       "2   IndiGo\\n6E-609/6722  Jammu      Mumbai    14:00        23:30   9h 30m   \n",
       "3   IndiGo\\n6E-137/6722  Jammu      Mumbai    11:55        23:30  11h 35m   \n",
       "4  SpiceJet\\nSG-160/945  Jammu      Mumbai    11:15        16:15   5h 00m   \n",
       "\n",
       "  Total_Stops  price  \n",
       "0   2 Stop(s)  7,365  \n",
       "1   2 Stop(s)  7,365  \n",
       "2   2 Stop(s)  7,365  \n",
       "3   2 Stop(s)  7,365  \n",
       "4      1 Stop  7,418  "
      ]
     },
     "execution_count": 3,
     "metadata": {},
     "output_type": "execute_result"
    }
   ],
   "source": [
    "df.head()"
   ]
  },
  {
   "cell_type": "markdown",
   "id": "243a6708",
   "metadata": {},
   "source": [
    "# Exploratory Data Analysis :"
   ]
  },
  {
   "cell_type": "code",
   "execution_count": 4,
   "id": "1bc252b0",
   "metadata": {},
   "outputs": [
    {
     "data": {
      "text/plain": [
       "Index(['Airline', 'Source', 'Destination', 'Dep_Time', 'Arrival_Time',\n",
       "       'Duration', 'Total_Stops', 'price'],\n",
       "      dtype='object')"
      ]
     },
     "execution_count": 4,
     "metadata": {},
     "output_type": "execute_result"
    }
   ],
   "source": [
    "# Checking the features of the dataset\n",
    "\n",
    "df.columns"
   ]
  },
  {
   "cell_type": "code",
   "execution_count": 5,
   "id": "c349f906",
   "metadata": {},
   "outputs": [
    {
     "data": {
      "text/plain": [
       "(6730, 8)"
      ]
     },
     "execution_count": 5,
     "metadata": {},
     "output_type": "execute_result"
    }
   ],
   "source": [
    "# Checking shape of the train dataset\n",
    "\n",
    "df.shape"
   ]
  },
  {
   "cell_type": "markdown",
   "id": "70dd9e58",
   "metadata": {},
   "source": [
    "___The dataset has 6730 rows and 8 columns.___"
   ]
  },
  {
   "cell_type": "code",
   "execution_count": 6,
   "id": "8d9c1f53",
   "metadata": {},
   "outputs": [
    {
     "data": {
      "text/plain": [
       "Airline         object\n",
       "Source          object\n",
       "Destination     object\n",
       "Dep_Time        object\n",
       "Arrival_Time    object\n",
       "Duration        object\n",
       "Total_Stops     object\n",
       "price           object\n",
       "dtype: object"
      ]
     },
     "execution_count": 6,
     "metadata": {},
     "output_type": "execute_result"
    }
   ],
   "source": [
    "# Checking datatype of the data\n",
    "\n",
    "df.dtypes"
   ]
  },
  {
   "cell_type": "markdown",
   "id": "51fd8d3b",
   "metadata": {},
   "source": [
    "___So, all the features are object datatype.___"
   ]
  },
  {
   "cell_type": "code",
   "execution_count": 7,
   "id": "7016cbf9",
   "metadata": {},
   "outputs": [
    {
     "name": "stdout",
     "output_type": "stream",
     "text": [
      "<class 'pandas.core.frame.DataFrame'>\n",
      "RangeIndex: 6730 entries, 0 to 6729\n",
      "Data columns (total 8 columns):\n",
      " #   Column        Non-Null Count  Dtype \n",
      "---  ------        --------------  ----- \n",
      " 0   Airline       6730 non-null   object\n",
      " 1   Source        6730 non-null   object\n",
      " 2   Destination   6730 non-null   object\n",
      " 3   Dep_Time      6730 non-null   object\n",
      " 4   Arrival_Time  6730 non-null   object\n",
      " 5   Duration      6730 non-null   object\n",
      " 6   Total_Stops   6730 non-null   object\n",
      " 7   price         6730 non-null   object\n",
      "dtypes: object(8)\n",
      "memory usage: 420.8+ KB\n"
     ]
    }
   ],
   "source": [
    "# Getting more information about the dataset\n",
    "\n",
    "df.info()"
   ]
  },
  {
   "cell_type": "markdown",
   "id": "bb0c254a",
   "metadata": {},
   "source": [
    "_Here we can observe that all the 6730 rows, for all the columns, are non null, that is there are no null values._\n",
    "\n",
    "_And memory used by the dataset is 420.8+ KB._"
   ]
  },
  {
   "cell_type": "code",
   "execution_count": 8,
   "id": "275ededd",
   "metadata": {},
   "outputs": [
    {
     "data": {
      "text/plain": [
       "Airline         0\n",
       "Source          0\n",
       "Destination     0\n",
       "Dep_Time        0\n",
       "Arrival_Time    0\n",
       "Duration        0\n",
       "Total_Stops     0\n",
       "price           0\n",
       "dtype: int64"
      ]
     },
     "execution_count": 8,
     "metadata": {},
     "output_type": "execute_result"
    }
   ],
   "source": [
    "# Checking for null values in dataset\n",
    "\n",
    "df.isnull().sum()"
   ]
  },
  {
   "cell_type": "markdown",
   "id": "c511b90a",
   "metadata": {},
   "source": [
    "___There are no null values in the dataset.___"
   ]
  },
  {
   "cell_type": "markdown",
   "id": "ee958f31",
   "metadata": {},
   "source": [
    "We can also visualize and check :"
   ]
  },
  {
   "cell_type": "code",
   "execution_count": 9,
   "id": "251e2617",
   "metadata": {},
   "outputs": [],
   "source": [
    "# First importing the seaborn library\n",
    "\n",
    "import seaborn as sns"
   ]
  },
  {
   "cell_type": "code",
   "execution_count": 10,
   "id": "6622a00c",
   "metadata": {},
   "outputs": [
    {
     "data": {
      "text/plain": [
       "<AxesSubplot:>"
      ]
     },
     "execution_count": 10,
     "metadata": {},
     "output_type": "execute_result"
    },
    {
     "data": {
      "image/png": "[encoded data removed]",
      "text/plain": [
       "<Figure size 432x288 with 2 Axes>"
      ]
     },
     "metadata": {
      "needs_background": "light"
     },
     "output_type": "display_data"
    }
   ],
   "source": [
    "sns.heatmap(df.isnull())"
   ]
  },
  {
   "cell_type": "code",
   "execution_count": 11,
   "id": "fa046136",
   "metadata": {},
   "outputs": [
    {
     "data": {
      "text/plain": [
       "Airline         139\n",
       "Source            4\n",
       "Destination       4\n",
       "Dep_Time         67\n",
       "Arrival_Time     69\n",
       "Duration        107\n",
       "Total_Stops       3\n",
       "price            39\n",
       "dtype: int64"
      ]
     },
     "execution_count": 11,
     "metadata": {},
     "output_type": "execute_result"
    }
   ],
   "source": [
    "df.nunique()"
   ]
  },
  {
   "cell_type": "code",
   "execution_count": 12,
   "id": "a21b09a9",
   "metadata": {
    "scrolled": false
   },
   "outputs": [
    {
     "name": "stdout",
     "output_type": "stream",
     "text": [
      "IndiGo\\n6E-629/944           76\n",
      "Go First\\nG8-284/790         76\n",
      "IndiGo\\n6E-391/6326          76\n",
      "Go First\\nG8-501/791         76\n",
      "IndiGo\\n6E-672/2513          76\n",
      "                             ..\n",
      "SpiceJet\\nSG-161/8157        29\n",
      "Vistara\\nUK-612/985          29\n",
      "Air India\\nAI-660/401/721    29\n",
      "Air India\\nAI-687/879        29\n",
      "Air India\\nAI-809/879        29\n",
      "Name: Airline, Length: 139, dtype: int64\n",
      "~~~~~~~~~~~~~~~~~~~~~~~~~~~~~\n",
      "Bangalore    2500\n",
      "Pune         2200\n",
      "Mumbai       1015\n",
      "Jammu        1015\n",
      "Name: Source, dtype: int64\n",
      "~~~~~~~~~~~~~~~~~~~~~~~~~~~~~\n",
      "Goa         2500\n",
      "Kolkata     2200\n",
      "Bagdogra    1015\n",
      "Mumbai      1015\n",
      "Name: Destination, dtype: int64\n",
      "~~~~~~~~~~~~~~~~~~~~~~~~~~~~~\n",
      "15:35    395\n",
      "16:55    300\n",
      "06:45    285\n",
      "13:55    261\n",
      "07:20    228\n",
      "        ... \n",
      "21:40     29\n",
      "19:45     29\n",
      "12:25     29\n",
      "18:35     29\n",
      "14:00     29\n",
      "Name: Dep_Time, Length: 67, dtype: int64\n",
      "~~~~~~~~~~~~~~~~~~~~~~~~~~~~~\n",
      "06:25\\n+ 1 day    426\n",
      "09:45\\n+ 1 day    377\n",
      "13:15\\n+ 1 day    290\n",
      "13:50\\n+ 1 day    284\n",
      "20:50             245\n",
      "                 ... \n",
      "10:40              29\n",
      "22:10              29\n",
      "16:15\\n+ 1 day     29\n",
      "10:10\\n+ 1 day     29\n",
      "08:40\\n+ 1 day     29\n",
      "Name: Arrival_Time, Length: 69, dtype: int64\n",
      "~~~~~~~~~~~~~~~~~~~~~~~~~~~~~\n",
      "17h 45m    213\n",
      "17h 05m    213\n",
      "7h 05m     181\n",
      "20h 00m    171\n",
      "8h 40m     151\n",
      "          ... \n",
      "26h 35m     29\n",
      "18h 10m     29\n",
      "30h 05m     29\n",
      "18h 50m     29\n",
      "16h 15m     29\n",
      "Name: Duration, Length: 107, dtype: int64\n",
      "~~~~~~~~~~~~~~~~~~~~~~~~~~~~~\n",
      "1 Stop       5046\n",
      "2 Stop(s)    1529\n",
      "3 Stop(s)     155\n",
      "Name: Total_Stops, dtype: int64\n",
      "~~~~~~~~~~~~~~~~~~~~~~~~~~~~~\n",
      "7,743     835\n",
      "13,162    568\n",
      "8,450     551\n",
      "7,742     380\n",
      "8,066     360\n",
      "12,454    355\n",
      "9,420     319\n",
      "11,838    230\n",
      "10,209    225\n",
      "4,338     216\n",
      "4,337     216\n",
      "12,057    213\n",
      "9,064     213\n",
      "9,215     174\n",
      "10,978    174\n",
      "7,796     150\n",
      "12,377    124\n",
      "8,678     116\n",
      "14,678    116\n",
      "7,418     116\n",
      "7,365     116\n",
      "13,878     87\n",
      "10,388     75\n",
      "9,035      75\n",
      "7,744      75\n",
      "8,224      72\n",
      "4,339      72\n",
      "8,486      72\n",
      "7,046      72\n",
      "8,906      71\n",
      "12,548     58\n",
      "12,639     31\n",
      "8,662      29\n",
      "8,528      29\n",
      "10,871     29\n",
      "8,014      29\n",
      "12,278     29\n",
      "13,078     29\n",
      "8,728      29\n",
      "Name: price, dtype: int64\n",
      "~~~~~~~~~~~~~~~~~~~~~~~~~~~~~\n"
     ]
    }
   ],
   "source": [
    "for i in df.columns:\n",
    "    print(df[i].value_counts())\n",
    "    print('~~~~~~~~~~~~~~~~~~~~~~~~~~~~~')"
   ]
  },
  {
   "cell_type": "markdown",
   "id": "93bc8dc9",
   "metadata": {},
   "source": [
    "# Feature Engineering :"
   ]
  },
  {
   "cell_type": "markdown",
   "id": "cae330d2",
   "metadata": {},
   "source": [
    "__Airline :__"
   ]
  },
  {
   "cell_type": "code",
   "execution_count": 13,
   "id": "4bc4e689",
   "metadata": {},
   "outputs": [],
   "source": [
    "airlines=[]\n",
    "for i in df['Airline']:\n",
    "    k=i.split()[0]\n",
    "    airlines.append(k)\n",
    "    \n",
    "\n",
    "df['Airlines']=airlines"
   ]
  },
  {
   "cell_type": "code",
   "execution_count": 14,
   "id": "3986017c",
   "metadata": {},
   "outputs": [],
   "source": [
    "df.drop(['Airline'],axis=1,inplace=True)"
   ]
  },
  {
   "cell_type": "code",
   "execution_count": 15,
   "id": "aa93d8a0",
   "metadata": {},
   "outputs": [
    {
     "data": {
      "text/html": [
       "<div>\n",
       "<style scoped>\n",
       "    .dataframe tbody tr th:only-of-type {\n",
       "        vertical-align: middle;\n",
       "    }\n",
       "\n",
       "    .dataframe tbody tr th {\n",
       "        vertical-align: top;\n",
       "    }\n",
       "\n",
       "    .dataframe thead th {\n",
       "        text-align: right;\n",
       "    }\n",
       "</style>\n",
       "<table border=\"1\" class=\"dataframe\">\n",
       "  <thead>\n",
       "    <tr style=\"text-align: right;\">\n",
       "      <th></th>\n",
       "      <th>Source</th>\n",
       "      <th>Destination</th>\n",
       "      <th>Dep_Time</th>\n",
       "      <th>Arrival_Time</th>\n",
       "      <th>Duration</th>\n",
       "      <th>Total_Stops</th>\n",
       "      <th>price</th>\n",
       "      <th>Airlines</th>\n",
       "    </tr>\n",
       "  </thead>\n",
       "  <tbody>\n",
       "    <tr>\n",
       "      <th>0</th>\n",
       "      <td>Jammu</td>\n",
       "      <td>Mumbai</td>\n",
       "      <td>11:55</td>\n",
       "      <td>19:25</td>\n",
       "      <td>7h 30m</td>\n",
       "      <td>2 Stop(s)</td>\n",
       "      <td>7,365</td>\n",
       "      <td>IndiGo</td>\n",
       "    </tr>\n",
       "    <tr>\n",
       "      <th>1</th>\n",
       "      <td>Jammu</td>\n",
       "      <td>Mumbai</td>\n",
       "      <td>11:55</td>\n",
       "      <td>20:50</td>\n",
       "      <td>8h 55m</td>\n",
       "      <td>2 Stop(s)</td>\n",
       "      <td>7,365</td>\n",
       "      <td>IndiGo</td>\n",
       "    </tr>\n",
       "    <tr>\n",
       "      <th>2</th>\n",
       "      <td>Jammu</td>\n",
       "      <td>Mumbai</td>\n",
       "      <td>14:00</td>\n",
       "      <td>23:30</td>\n",
       "      <td>9h 30m</td>\n",
       "      <td>2 Stop(s)</td>\n",
       "      <td>7,365</td>\n",
       "      <td>IndiGo</td>\n",
       "    </tr>\n",
       "    <tr>\n",
       "      <th>3</th>\n",
       "      <td>Jammu</td>\n",
       "      <td>Mumbai</td>\n",
       "      <td>11:55</td>\n",
       "      <td>23:30</td>\n",
       "      <td>11h 35m</td>\n",
       "      <td>2 Stop(s)</td>\n",
       "      <td>7,365</td>\n",
       "      <td>IndiGo</td>\n",
       "    </tr>\n",
       "    <tr>\n",
       "      <th>4</th>\n",
       "      <td>Jammu</td>\n",
       "      <td>Mumbai</td>\n",
       "      <td>11:15</td>\n",
       "      <td>16:15</td>\n",
       "      <td>5h 00m</td>\n",
       "      <td>1 Stop</td>\n",
       "      <td>7,418</td>\n",
       "      <td>SpiceJet</td>\n",
       "    </tr>\n",
       "  </tbody>\n",
       "</table>\n",
       "</div>"
      ],
      "text/plain": [
       "  Source Destination Dep_Time Arrival_Time Duration Total_Stops  price  \\\n",
       "0  Jammu      Mumbai    11:55        19:25   7h 30m   2 Stop(s)  7,365   \n",
       "1  Jammu      Mumbai    11:55        20:50   8h 55m   2 Stop(s)  7,365   \n",
       "2  Jammu      Mumbai    14:00        23:30   9h 30m   2 Stop(s)  7,365   \n",
       "3  Jammu      Mumbai    11:55        23:30  11h 35m   2 Stop(s)  7,365   \n",
       "4  Jammu      Mumbai    11:15        16:15   5h 00m      1 Stop  7,418   \n",
       "\n",
       "   Airlines  \n",
       "0    IndiGo  \n",
       "1    IndiGo  \n",
       "2    IndiGo  \n",
       "3    IndiGo  \n",
       "4  SpiceJet  "
      ]
     },
     "execution_count": 15,
     "metadata": {},
     "output_type": "execute_result"
    }
   ],
   "source": [
    "df.head()"
   ]
  },
  {
   "cell_type": "markdown",
   "id": "1b38d41b",
   "metadata": {},
   "source": [
    "Airlines feature is successfully cleaned and dropped the previous one."
   ]
  },
  {
   "cell_type": "markdown",
   "id": "b1419e2b",
   "metadata": {},
   "source": [
    "__Dep_Time :__"
   ]
  },
  {
   "cell_type": "code",
   "execution_count": 16,
   "id": "2649e313",
   "metadata": {},
   "outputs": [],
   "source": [
    "df['Dep_hour']=pd.to_datetime(df['Dep_Time']).dt.hour\n",
    "df['Dep_minute']=pd.to_datetime(df['Dep_Time']).dt.minute"
   ]
  },
  {
   "cell_type": "code",
   "execution_count": 17,
   "id": "c8f8fd76",
   "metadata": {},
   "outputs": [
    {
     "data": {
      "text/html": [
       "<div>\n",
       "<style scoped>\n",
       "    .dataframe tbody tr th:only-of-type {\n",
       "        vertical-align: middle;\n",
       "    }\n",
       "\n",
       "    .dataframe tbody tr th {\n",
       "        vertical-align: top;\n",
       "    }\n",
       "\n",
       "    .dataframe thead th {\n",
       "        text-align: right;\n",
       "    }\n",
       "</style>\n",
       "<table border=\"1\" class=\"dataframe\">\n",
       "  <thead>\n",
       "    <tr style=\"text-align: right;\">\n",
       "      <th></th>\n",
       "      <th>Source</th>\n",
       "      <th>Destination</th>\n",
       "      <th>Dep_Time</th>\n",
       "      <th>Arrival_Time</th>\n",
       "      <th>Duration</th>\n",
       "      <th>Total_Stops</th>\n",
       "      <th>price</th>\n",
       "      <th>Airlines</th>\n",
       "      <th>Dep_hour</th>\n",
       "      <th>Dep_minute</th>\n",
       "    </tr>\n",
       "  </thead>\n",
       "  <tbody>\n",
       "    <tr>\n",
       "      <th>0</th>\n",
       "      <td>Jammu</td>\n",
       "      <td>Mumbai</td>\n",
       "      <td>11:55</td>\n",
       "      <td>19:25</td>\n",
       "      <td>7h 30m</td>\n",
       "      <td>2 Stop(s)</td>\n",
       "      <td>7,365</td>\n",
       "      <td>IndiGo</td>\n",
       "      <td>11</td>\n",
       "      <td>55</td>\n",
       "    </tr>\n",
       "    <tr>\n",
       "      <th>1</th>\n",
       "      <td>Jammu</td>\n",
       "      <td>Mumbai</td>\n",
       "      <td>11:55</td>\n",
       "      <td>20:50</td>\n",
       "      <td>8h 55m</td>\n",
       "      <td>2 Stop(s)</td>\n",
       "      <td>7,365</td>\n",
       "      <td>IndiGo</td>\n",
       "      <td>11</td>\n",
       "      <td>55</td>\n",
       "    </tr>\n",
       "    <tr>\n",
       "      <th>2</th>\n",
       "      <td>Jammu</td>\n",
       "      <td>Mumbai</td>\n",
       "      <td>14:00</td>\n",
       "      <td>23:30</td>\n",
       "      <td>9h 30m</td>\n",
       "      <td>2 Stop(s)</td>\n",
       "      <td>7,365</td>\n",
       "      <td>IndiGo</td>\n",
       "      <td>14</td>\n",
       "      <td>0</td>\n",
       "    </tr>\n",
       "    <tr>\n",
       "      <th>3</th>\n",
       "      <td>Jammu</td>\n",
       "      <td>Mumbai</td>\n",
       "      <td>11:55</td>\n",
       "      <td>23:30</td>\n",
       "      <td>11h 35m</td>\n",
       "      <td>2 Stop(s)</td>\n",
       "      <td>7,365</td>\n",
       "      <td>IndiGo</td>\n",
       "      <td>11</td>\n",
       "      <td>55</td>\n",
       "    </tr>\n",
       "    <tr>\n",
       "      <th>4</th>\n",
       "      <td>Jammu</td>\n",
       "      <td>Mumbai</td>\n",
       "      <td>11:15</td>\n",
       "      <td>16:15</td>\n",
       "      <td>5h 00m</td>\n",
       "      <td>1 Stop</td>\n",
       "      <td>7,418</td>\n",
       "      <td>SpiceJet</td>\n",
       "      <td>11</td>\n",
       "      <td>15</td>\n",
       "    </tr>\n",
       "  </tbody>\n",
       "</table>\n",
       "</div>"
      ],
      "text/plain": [
       "  Source Destination Dep_Time Arrival_Time Duration Total_Stops  price  \\\n",
       "0  Jammu      Mumbai    11:55        19:25   7h 30m   2 Stop(s)  7,365   \n",
       "1  Jammu      Mumbai    11:55        20:50   8h 55m   2 Stop(s)  7,365   \n",
       "2  Jammu      Mumbai    14:00        23:30   9h 30m   2 Stop(s)  7,365   \n",
       "3  Jammu      Mumbai    11:55        23:30  11h 35m   2 Stop(s)  7,365   \n",
       "4  Jammu      Mumbai    11:15        16:15   5h 00m      1 Stop  7,418   \n",
       "\n",
       "   Airlines  Dep_hour  Dep_minute  \n",
       "0    IndiGo        11          55  \n",
       "1    IndiGo        11          55  \n",
       "2    IndiGo        14           0  \n",
       "3    IndiGo        11          55  \n",
       "4  SpiceJet        11          15  "
      ]
     },
     "execution_count": 17,
     "metadata": {},
     "output_type": "execute_result"
    }
   ],
   "source": [
    "df.head()"
   ]
  },
  {
   "cell_type": "markdown",
   "id": "454d005d",
   "metadata": {},
   "source": [
    "Separate columns for departure hour and minute are created."
   ]
  },
  {
   "cell_type": "code",
   "execution_count": 18,
   "id": "d90870f5",
   "metadata": {},
   "outputs": [],
   "source": [
    "df.drop(['Dep_Time'],axis=1,inplace=True)"
   ]
  },
  {
   "cell_type": "code",
   "execution_count": 19,
   "id": "44fa3af9",
   "metadata": {},
   "outputs": [
    {
     "data": {
      "text/html": [
       "<div>\n",
       "<style scoped>\n",
       "    .dataframe tbody tr th:only-of-type {\n",
       "        vertical-align: middle;\n",
       "    }\n",
       "\n",
       "    .dataframe tbody tr th {\n",
       "        vertical-align: top;\n",
       "    }\n",
       "\n",
       "    .dataframe thead th {\n",
       "        text-align: right;\n",
       "    }\n",
       "</style>\n",
       "<table border=\"1\" class=\"dataframe\">\n",
       "  <thead>\n",
       "    <tr style=\"text-align: right;\">\n",
       "      <th></th>\n",
       "      <th>Source</th>\n",
       "      <th>Destination</th>\n",
       "      <th>Arrival_Time</th>\n",
       "      <th>Duration</th>\n",
       "      <th>Total_Stops</th>\n",
       "      <th>price</th>\n",
       "      <th>Airlines</th>\n",
       "      <th>Dep_hour</th>\n",
       "      <th>Dep_minute</th>\n",
       "    </tr>\n",
       "  </thead>\n",
       "  <tbody>\n",
       "    <tr>\n",
       "      <th>0</th>\n",
       "      <td>Jammu</td>\n",
       "      <td>Mumbai</td>\n",
       "      <td>19:25</td>\n",
       "      <td>7h 30m</td>\n",
       "      <td>2 Stop(s)</td>\n",
       "      <td>7,365</td>\n",
       "      <td>IndiGo</td>\n",
       "      <td>11</td>\n",
       "      <td>55</td>\n",
       "    </tr>\n",
       "    <tr>\n",
       "      <th>1</th>\n",
       "      <td>Jammu</td>\n",
       "      <td>Mumbai</td>\n",
       "      <td>20:50</td>\n",
       "      <td>8h 55m</td>\n",
       "      <td>2 Stop(s)</td>\n",
       "      <td>7,365</td>\n",
       "      <td>IndiGo</td>\n",
       "      <td>11</td>\n",
       "      <td>55</td>\n",
       "    </tr>\n",
       "    <tr>\n",
       "      <th>2</th>\n",
       "      <td>Jammu</td>\n",
       "      <td>Mumbai</td>\n",
       "      <td>23:30</td>\n",
       "      <td>9h 30m</td>\n",
       "      <td>2 Stop(s)</td>\n",
       "      <td>7,365</td>\n",
       "      <td>IndiGo</td>\n",
       "      <td>14</td>\n",
       "      <td>0</td>\n",
       "    </tr>\n",
       "    <tr>\n",
       "      <th>3</th>\n",
       "      <td>Jammu</td>\n",
       "      <td>Mumbai</td>\n",
       "      <td>23:30</td>\n",
       "      <td>11h 35m</td>\n",
       "      <td>2 Stop(s)</td>\n",
       "      <td>7,365</td>\n",
       "      <td>IndiGo</td>\n",
       "      <td>11</td>\n",
       "      <td>55</td>\n",
       "    </tr>\n",
       "    <tr>\n",
       "      <th>4</th>\n",
       "      <td>Jammu</td>\n",
       "      <td>Mumbai</td>\n",
       "      <td>16:15</td>\n",
       "      <td>5h 00m</td>\n",
       "      <td>1 Stop</td>\n",
       "      <td>7,418</td>\n",
       "      <td>SpiceJet</td>\n",
       "      <td>11</td>\n",
       "      <td>15</td>\n",
       "    </tr>\n",
       "  </tbody>\n",
       "</table>\n",
       "</div>"
      ],
      "text/plain": [
       "  Source Destination Arrival_Time Duration Total_Stops  price  Airlines  \\\n",
       "0  Jammu      Mumbai        19:25   7h 30m   2 Stop(s)  7,365    IndiGo   \n",
       "1  Jammu      Mumbai        20:50   8h 55m   2 Stop(s)  7,365    IndiGo   \n",
       "2  Jammu      Mumbai        23:30   9h 30m   2 Stop(s)  7,365    IndiGo   \n",
       "3  Jammu      Mumbai        23:30  11h 35m   2 Stop(s)  7,365    IndiGo   \n",
       "4  Jammu      Mumbai        16:15   5h 00m      1 Stop  7,418  SpiceJet   \n",
       "\n",
       "   Dep_hour  Dep_minute  \n",
       "0        11          55  \n",
       "1        11          55  \n",
       "2        14           0  \n",
       "3        11          55  \n",
       "4        11          15  "
      ]
     },
     "execution_count": 19,
     "metadata": {},
     "output_type": "execute_result"
    }
   ],
   "source": [
    "df.head()"
   ]
  },
  {
   "cell_type": "markdown",
   "id": "3109670d",
   "metadata": {},
   "source": [
    "Successfully dropped."
   ]
  },
  {
   "cell_type": "markdown",
   "id": "1a2f90f6",
   "metadata": {},
   "source": [
    "__Arrival_Time :__"
   ]
  },
  {
   "cell_type": "code",
   "execution_count": 20,
   "id": "7c28128f",
   "metadata": {},
   "outputs": [],
   "source": [
    "df['Arrival_Time']=df['Arrival_Time'].replace(\"\\n+\",\"\",regex=True)"
   ]
  },
  {
   "cell_type": "code",
   "execution_count": 21,
   "id": "8e6651b6",
   "metadata": {},
   "outputs": [],
   "source": [
    "df.Arrival_Time=df.Arrival_Time.str.split(':')"
   ]
  },
  {
   "cell_type": "code",
   "execution_count": 22,
   "id": "ead0cc6d",
   "metadata": {},
   "outputs": [],
   "source": [
    "df['Arrival_Hour']=df.Arrival_Time.str[0]\n",
    "df['Arrival_minute']=df.Arrival_Time.str[1]"
   ]
  },
  {
   "cell_type": "code",
   "execution_count": 23,
   "id": "6618660c",
   "metadata": {},
   "outputs": [
    {
     "data": {
      "text/html": [
       "<div>\n",
       "<style scoped>\n",
       "    .dataframe tbody tr th:only-of-type {\n",
       "        vertical-align: middle;\n",
       "    }\n",
       "\n",
       "    .dataframe tbody tr th {\n",
       "        vertical-align: top;\n",
       "    }\n",
       "\n",
       "    .dataframe thead th {\n",
       "        text-align: right;\n",
       "    }\n",
       "</style>\n",
       "<table border=\"1\" class=\"dataframe\">\n",
       "  <thead>\n",
       "    <tr style=\"text-align: right;\">\n",
       "      <th></th>\n",
       "      <th>Source</th>\n",
       "      <th>Destination</th>\n",
       "      <th>Arrival_Time</th>\n",
       "      <th>Duration</th>\n",
       "      <th>Total_Stops</th>\n",
       "      <th>price</th>\n",
       "      <th>Airlines</th>\n",
       "      <th>Dep_hour</th>\n",
       "      <th>Dep_minute</th>\n",
       "      <th>Arrival_Hour</th>\n",
       "      <th>Arrival_minute</th>\n",
       "    </tr>\n",
       "  </thead>\n",
       "  <tbody>\n",
       "    <tr>\n",
       "      <th>0</th>\n",
       "      <td>Jammu</td>\n",
       "      <td>Mumbai</td>\n",
       "      <td>[19, 25]</td>\n",
       "      <td>7h 30m</td>\n",
       "      <td>2 Stop(s)</td>\n",
       "      <td>7,365</td>\n",
       "      <td>IndiGo</td>\n",
       "      <td>11</td>\n",
       "      <td>55</td>\n",
       "      <td>19</td>\n",
       "      <td>25</td>\n",
       "    </tr>\n",
       "    <tr>\n",
       "      <th>1</th>\n",
       "      <td>Jammu</td>\n",
       "      <td>Mumbai</td>\n",
       "      <td>[20, 50]</td>\n",
       "      <td>8h 55m</td>\n",
       "      <td>2 Stop(s)</td>\n",
       "      <td>7,365</td>\n",
       "      <td>IndiGo</td>\n",
       "      <td>11</td>\n",
       "      <td>55</td>\n",
       "      <td>20</td>\n",
       "      <td>50</td>\n",
       "    </tr>\n",
       "    <tr>\n",
       "      <th>2</th>\n",
       "      <td>Jammu</td>\n",
       "      <td>Mumbai</td>\n",
       "      <td>[23, 30]</td>\n",
       "      <td>9h 30m</td>\n",
       "      <td>2 Stop(s)</td>\n",
       "      <td>7,365</td>\n",
       "      <td>IndiGo</td>\n",
       "      <td>14</td>\n",
       "      <td>0</td>\n",
       "      <td>23</td>\n",
       "      <td>30</td>\n",
       "    </tr>\n",
       "    <tr>\n",
       "      <th>3</th>\n",
       "      <td>Jammu</td>\n",
       "      <td>Mumbai</td>\n",
       "      <td>[23, 30]</td>\n",
       "      <td>11h 35m</td>\n",
       "      <td>2 Stop(s)</td>\n",
       "      <td>7,365</td>\n",
       "      <td>IndiGo</td>\n",
       "      <td>11</td>\n",
       "      <td>55</td>\n",
       "      <td>23</td>\n",
       "      <td>30</td>\n",
       "    </tr>\n",
       "    <tr>\n",
       "      <th>4</th>\n",
       "      <td>Jammu</td>\n",
       "      <td>Mumbai</td>\n",
       "      <td>[16, 15]</td>\n",
       "      <td>5h 00m</td>\n",
       "      <td>1 Stop</td>\n",
       "      <td>7,418</td>\n",
       "      <td>SpiceJet</td>\n",
       "      <td>11</td>\n",
       "      <td>15</td>\n",
       "      <td>16</td>\n",
       "      <td>15</td>\n",
       "    </tr>\n",
       "  </tbody>\n",
       "</table>\n",
       "</div>"
      ],
      "text/plain": [
       "  Source Destination Arrival_Time Duration Total_Stops  price  Airlines  \\\n",
       "0  Jammu      Mumbai     [19, 25]   7h 30m   2 Stop(s)  7,365    IndiGo   \n",
       "1  Jammu      Mumbai     [20, 50]   8h 55m   2 Stop(s)  7,365    IndiGo   \n",
       "2  Jammu      Mumbai     [23, 30]   9h 30m   2 Stop(s)  7,365    IndiGo   \n",
       "3  Jammu      Mumbai     [23, 30]  11h 35m   2 Stop(s)  7,365    IndiGo   \n",
       "4  Jammu      Mumbai     [16, 15]   5h 00m      1 Stop  7,418  SpiceJet   \n",
       "\n",
       "   Dep_hour  Dep_minute Arrival_Hour Arrival_minute  \n",
       "0        11          55           19             25  \n",
       "1        11          55           20             50  \n",
       "2        14           0           23             30  \n",
       "3        11          55           23             30  \n",
       "4        11          15           16             15  "
      ]
     },
     "execution_count": 23,
     "metadata": {},
     "output_type": "execute_result"
    }
   ],
   "source": [
    "df.head()"
   ]
  },
  {
   "cell_type": "code",
   "execution_count": 24,
   "id": "01816dd9",
   "metadata": {},
   "outputs": [],
   "source": [
    "df.drop(['Arrival_Time'],axis=1,inplace=True)"
   ]
  },
  {
   "cell_type": "code",
   "execution_count": 25,
   "id": "900e3bf5",
   "metadata": {},
   "outputs": [
    {
     "data": {
      "text/html": [
       "<div>\n",
       "<style scoped>\n",
       "    .dataframe tbody tr th:only-of-type {\n",
       "        vertical-align: middle;\n",
       "    }\n",
       "\n",
       "    .dataframe tbody tr th {\n",
       "        vertical-align: top;\n",
       "    }\n",
       "\n",
       "    .dataframe thead th {\n",
       "        text-align: right;\n",
       "    }\n",
       "</style>\n",
       "<table border=\"1\" class=\"dataframe\">\n",
       "  <thead>\n",
       "    <tr style=\"text-align: right;\">\n",
       "      <th></th>\n",
       "      <th>Source</th>\n",
       "      <th>Destination</th>\n",
       "      <th>Duration</th>\n",
       "      <th>Total_Stops</th>\n",
       "      <th>price</th>\n",
       "      <th>Airlines</th>\n",
       "      <th>Dep_hour</th>\n",
       "      <th>Dep_minute</th>\n",
       "      <th>Arrival_Hour</th>\n",
       "      <th>Arrival_minute</th>\n",
       "    </tr>\n",
       "  </thead>\n",
       "  <tbody>\n",
       "    <tr>\n",
       "      <th>0</th>\n",
       "      <td>Jammu</td>\n",
       "      <td>Mumbai</td>\n",
       "      <td>7h 30m</td>\n",
       "      <td>2 Stop(s)</td>\n",
       "      <td>7,365</td>\n",
       "      <td>IndiGo</td>\n",
       "      <td>11</td>\n",
       "      <td>55</td>\n",
       "      <td>19</td>\n",
       "      <td>25</td>\n",
       "    </tr>\n",
       "    <tr>\n",
       "      <th>1</th>\n",
       "      <td>Jammu</td>\n",
       "      <td>Mumbai</td>\n",
       "      <td>8h 55m</td>\n",
       "      <td>2 Stop(s)</td>\n",
       "      <td>7,365</td>\n",
       "      <td>IndiGo</td>\n",
       "      <td>11</td>\n",
       "      <td>55</td>\n",
       "      <td>20</td>\n",
       "      <td>50</td>\n",
       "    </tr>\n",
       "    <tr>\n",
       "      <th>2</th>\n",
       "      <td>Jammu</td>\n",
       "      <td>Mumbai</td>\n",
       "      <td>9h 30m</td>\n",
       "      <td>2 Stop(s)</td>\n",
       "      <td>7,365</td>\n",
       "      <td>IndiGo</td>\n",
       "      <td>14</td>\n",
       "      <td>0</td>\n",
       "      <td>23</td>\n",
       "      <td>30</td>\n",
       "    </tr>\n",
       "    <tr>\n",
       "      <th>3</th>\n",
       "      <td>Jammu</td>\n",
       "      <td>Mumbai</td>\n",
       "      <td>11h 35m</td>\n",
       "      <td>2 Stop(s)</td>\n",
       "      <td>7,365</td>\n",
       "      <td>IndiGo</td>\n",
       "      <td>11</td>\n",
       "      <td>55</td>\n",
       "      <td>23</td>\n",
       "      <td>30</td>\n",
       "    </tr>\n",
       "    <tr>\n",
       "      <th>4</th>\n",
       "      <td>Jammu</td>\n",
       "      <td>Mumbai</td>\n",
       "      <td>5h 00m</td>\n",
       "      <td>1 Stop</td>\n",
       "      <td>7,418</td>\n",
       "      <td>SpiceJet</td>\n",
       "      <td>11</td>\n",
       "      <td>15</td>\n",
       "      <td>16</td>\n",
       "      <td>15</td>\n",
       "    </tr>\n",
       "  </tbody>\n",
       "</table>\n",
       "</div>"
      ],
      "text/plain": [
       "  Source Destination Duration Total_Stops  price  Airlines  Dep_hour  \\\n",
       "0  Jammu      Mumbai   7h 30m   2 Stop(s)  7,365    IndiGo        11   \n",
       "1  Jammu      Mumbai   8h 55m   2 Stop(s)  7,365    IndiGo        11   \n",
       "2  Jammu      Mumbai   9h 30m   2 Stop(s)  7,365    IndiGo        14   \n",
       "3  Jammu      Mumbai  11h 35m   2 Stop(s)  7,365    IndiGo        11   \n",
       "4  Jammu      Mumbai   5h 00m      1 Stop  7,418  SpiceJet        11   \n",
       "\n",
       "   Dep_minute Arrival_Hour Arrival_minute  \n",
       "0          55           19             25  \n",
       "1          55           20             50  \n",
       "2           0           23             30  \n",
       "3          55           23             30  \n",
       "4          15           16             15  "
      ]
     },
     "execution_count": 25,
     "metadata": {},
     "output_type": "execute_result"
    }
   ],
   "source": [
    "df.head()"
   ]
  },
  {
   "cell_type": "markdown",
   "id": "474e40ff",
   "metadata": {},
   "source": [
    "Successfully dropped."
   ]
  },
  {
   "cell_type": "markdown",
   "id": "16c3cb1d",
   "metadata": {},
   "source": [
    "__Duration :__"
   ]
  },
  {
   "cell_type": "code",
   "execution_count": 26,
   "id": "24a0eaba",
   "metadata": {},
   "outputs": [],
   "source": [
    "# First assigning Duration column values into a list :\n",
    "\n",
    "duration=list(df['Duration'])"
   ]
  },
  {
   "cell_type": "code",
   "execution_count": 27,
   "id": "a78552d4",
   "metadata": {},
   "outputs": [],
   "source": [
    "duration = list(df[\"Duration\"])\n",
    "\n",
    "for i in range(len(duration)):\n",
    "    if len(duration[i].split()) != 2:    # Check if duration contains only hour or mins\n",
    "        if \"h\" in duration[i]:\n",
    "            duration[i] = duration[i].strip() + \" 0m\"   # Adds 0 minute\n",
    "        else:\n",
    "            duration[i] = \"0h \" + duration[i]           # Adds 0 hour\n",
    "\n",
    "duration_hours = []\n",
    "duration_mins = []\n",
    "for i in range(len(duration)):\n",
    "    duration_hours.append(int(duration[i].split(sep = \"h\")[0])) # Extract hours from duration\n",
    "    duration_mins.append(int(duration[i].split(sep = \"m\")[0].split()[-1])) \n",
    "    # Extracts minutes from duration"
   ]
  },
  {
   "cell_type": "code",
   "execution_count": 28,
   "id": "4e7aec3b",
   "metadata": {},
   "outputs": [],
   "source": [
    "df[\"Duration_hours\"] = duration_hours\n",
    "df[\"Duration_mins\"] = duration_mins"
   ]
  },
  {
   "cell_type": "code",
   "execution_count": 29,
   "id": "eea4018e",
   "metadata": {},
   "outputs": [
    {
     "data": {
      "text/html": [
       "<div>\n",
       "<style scoped>\n",
       "    .dataframe tbody tr th:only-of-type {\n",
       "        vertical-align: middle;\n",
       "    }\n",
       "\n",
       "    .dataframe tbody tr th {\n",
       "        vertical-align: top;\n",
       "    }\n",
       "\n",
       "    .dataframe thead th {\n",
       "        text-align: right;\n",
       "    }\n",
       "</style>\n",
       "<table border=\"1\" class=\"dataframe\">\n",
       "  <thead>\n",
       "    <tr style=\"text-align: right;\">\n",
       "      <th></th>\n",
       "      <th>Source</th>\n",
       "      <th>Destination</th>\n",
       "      <th>Duration</th>\n",
       "      <th>Total_Stops</th>\n",
       "      <th>price</th>\n",
       "      <th>Airlines</th>\n",
       "      <th>Dep_hour</th>\n",
       "      <th>Dep_minute</th>\n",
       "      <th>Arrival_Hour</th>\n",
       "      <th>Arrival_minute</th>\n",
       "      <th>Duration_hours</th>\n",
       "      <th>Duration_mins</th>\n",
       "    </tr>\n",
       "  </thead>\n",
       "  <tbody>\n",
       "    <tr>\n",
       "      <th>0</th>\n",
       "      <td>Jammu</td>\n",
       "      <td>Mumbai</td>\n",
       "      <td>7h 30m</td>\n",
       "      <td>2 Stop(s)</td>\n",
       "      <td>7,365</td>\n",
       "      <td>IndiGo</td>\n",
       "      <td>11</td>\n",
       "      <td>55</td>\n",
       "      <td>19</td>\n",
       "      <td>25</td>\n",
       "      <td>7</td>\n",
       "      <td>30</td>\n",
       "    </tr>\n",
       "    <tr>\n",
       "      <th>1</th>\n",
       "      <td>Jammu</td>\n",
       "      <td>Mumbai</td>\n",
       "      <td>8h 55m</td>\n",
       "      <td>2 Stop(s)</td>\n",
       "      <td>7,365</td>\n",
       "      <td>IndiGo</td>\n",
       "      <td>11</td>\n",
       "      <td>55</td>\n",
       "      <td>20</td>\n",
       "      <td>50</td>\n",
       "      <td>8</td>\n",
       "      <td>55</td>\n",
       "    </tr>\n",
       "    <tr>\n",
       "      <th>2</th>\n",
       "      <td>Jammu</td>\n",
       "      <td>Mumbai</td>\n",
       "      <td>9h 30m</td>\n",
       "      <td>2 Stop(s)</td>\n",
       "      <td>7,365</td>\n",
       "      <td>IndiGo</td>\n",
       "      <td>14</td>\n",
       "      <td>0</td>\n",
       "      <td>23</td>\n",
       "      <td>30</td>\n",
       "      <td>9</td>\n",
       "      <td>30</td>\n",
       "    </tr>\n",
       "    <tr>\n",
       "      <th>3</th>\n",
       "      <td>Jammu</td>\n",
       "      <td>Mumbai</td>\n",
       "      <td>11h 35m</td>\n",
       "      <td>2 Stop(s)</td>\n",
       "      <td>7,365</td>\n",
       "      <td>IndiGo</td>\n",
       "      <td>11</td>\n",
       "      <td>55</td>\n",
       "      <td>23</td>\n",
       "      <td>30</td>\n",
       "      <td>11</td>\n",
       "      <td>35</td>\n",
       "    </tr>\n",
       "    <tr>\n",
       "      <th>4</th>\n",
       "      <td>Jammu</td>\n",
       "      <td>Mumbai</td>\n",
       "      <td>5h 00m</td>\n",
       "      <td>1 Stop</td>\n",
       "      <td>7,418</td>\n",
       "      <td>SpiceJet</td>\n",
       "      <td>11</td>\n",
       "      <td>15</td>\n",
       "      <td>16</td>\n",
       "      <td>15</td>\n",
       "      <td>5</td>\n",
       "      <td>0</td>\n",
       "    </tr>\n",
       "  </tbody>\n",
       "</table>\n",
       "</div>"
      ],
      "text/plain": [
       "  Source Destination Duration Total_Stops  price  Airlines  Dep_hour  \\\n",
       "0  Jammu      Mumbai   7h 30m   2 Stop(s)  7,365    IndiGo        11   \n",
       "1  Jammu      Mumbai   8h 55m   2 Stop(s)  7,365    IndiGo        11   \n",
       "2  Jammu      Mumbai   9h 30m   2 Stop(s)  7,365    IndiGo        14   \n",
       "3  Jammu      Mumbai  11h 35m   2 Stop(s)  7,365    IndiGo        11   \n",
       "4  Jammu      Mumbai   5h 00m      1 Stop  7,418  SpiceJet        11   \n",
       "\n",
       "   Dep_minute Arrival_Hour Arrival_minute  Duration_hours  Duration_mins  \n",
       "0          55           19             25               7             30  \n",
       "1          55           20             50               8             55  \n",
       "2           0           23             30               9             30  \n",
       "3          55           23             30              11             35  \n",
       "4          15           16             15               5              0  "
      ]
     },
     "execution_count": 29,
     "metadata": {},
     "output_type": "execute_result"
    }
   ],
   "source": [
    "df.head()"
   ]
  },
  {
   "cell_type": "markdown",
   "id": "c7ee91e8",
   "metadata": {},
   "source": [
    "Both columns are added."
   ]
  },
  {
   "cell_type": "code",
   "execution_count": 30,
   "id": "5e912825",
   "metadata": {},
   "outputs": [],
   "source": [
    "df.drop(['Duration'],axis=1,inplace=True)"
   ]
  },
  {
   "cell_type": "code",
   "execution_count": 31,
   "id": "b0215886",
   "metadata": {},
   "outputs": [
    {
     "data": {
      "text/html": [
       "<div>\n",
       "<style scoped>\n",
       "    .dataframe tbody tr th:only-of-type {\n",
       "        vertical-align: middle;\n",
       "    }\n",
       "\n",
       "    .dataframe tbody tr th {\n",
       "        vertical-align: top;\n",
       "    }\n",
       "\n",
       "    .dataframe thead th {\n",
       "        text-align: right;\n",
       "    }\n",
       "</style>\n",
       "<table border=\"1\" class=\"dataframe\">\n",
       "  <thead>\n",
       "    <tr style=\"text-align: right;\">\n",
       "      <th></th>\n",
       "      <th>Source</th>\n",
       "      <th>Destination</th>\n",
       "      <th>Total_Stops</th>\n",
       "      <th>price</th>\n",
       "      <th>Airlines</th>\n",
       "      <th>Dep_hour</th>\n",
       "      <th>Dep_minute</th>\n",
       "      <th>Arrival_Hour</th>\n",
       "      <th>Arrival_minute</th>\n",
       "      <th>Duration_hours</th>\n",
       "      <th>Duration_mins</th>\n",
       "    </tr>\n",
       "  </thead>\n",
       "  <tbody>\n",
       "    <tr>\n",
       "      <th>0</th>\n",
       "      <td>Jammu</td>\n",
       "      <td>Mumbai</td>\n",
       "      <td>2 Stop(s)</td>\n",
       "      <td>7,365</td>\n",
       "      <td>IndiGo</td>\n",
       "      <td>11</td>\n",
       "      <td>55</td>\n",
       "      <td>19</td>\n",
       "      <td>25</td>\n",
       "      <td>7</td>\n",
       "      <td>30</td>\n",
       "    </tr>\n",
       "    <tr>\n",
       "      <th>1</th>\n",
       "      <td>Jammu</td>\n",
       "      <td>Mumbai</td>\n",
       "      <td>2 Stop(s)</td>\n",
       "      <td>7,365</td>\n",
       "      <td>IndiGo</td>\n",
       "      <td>11</td>\n",
       "      <td>55</td>\n",
       "      <td>20</td>\n",
       "      <td>50</td>\n",
       "      <td>8</td>\n",
       "      <td>55</td>\n",
       "    </tr>\n",
       "    <tr>\n",
       "      <th>2</th>\n",
       "      <td>Jammu</td>\n",
       "      <td>Mumbai</td>\n",
       "      <td>2 Stop(s)</td>\n",
       "      <td>7,365</td>\n",
       "      <td>IndiGo</td>\n",
       "      <td>14</td>\n",
       "      <td>0</td>\n",
       "      <td>23</td>\n",
       "      <td>30</td>\n",
       "      <td>9</td>\n",
       "      <td>30</td>\n",
       "    </tr>\n",
       "    <tr>\n",
       "      <th>3</th>\n",
       "      <td>Jammu</td>\n",
       "      <td>Mumbai</td>\n",
       "      <td>2 Stop(s)</td>\n",
       "      <td>7,365</td>\n",
       "      <td>IndiGo</td>\n",
       "      <td>11</td>\n",
       "      <td>55</td>\n",
       "      <td>23</td>\n",
       "      <td>30</td>\n",
       "      <td>11</td>\n",
       "      <td>35</td>\n",
       "    </tr>\n",
       "    <tr>\n",
       "      <th>4</th>\n",
       "      <td>Jammu</td>\n",
       "      <td>Mumbai</td>\n",
       "      <td>1 Stop</td>\n",
       "      <td>7,418</td>\n",
       "      <td>SpiceJet</td>\n",
       "      <td>11</td>\n",
       "      <td>15</td>\n",
       "      <td>16</td>\n",
       "      <td>15</td>\n",
       "      <td>5</td>\n",
       "      <td>0</td>\n",
       "    </tr>\n",
       "  </tbody>\n",
       "</table>\n",
       "</div>"
      ],
      "text/plain": [
       "  Source Destination Total_Stops  price  Airlines  Dep_hour  Dep_minute  \\\n",
       "0  Jammu      Mumbai   2 Stop(s)  7,365    IndiGo        11          55   \n",
       "1  Jammu      Mumbai   2 Stop(s)  7,365    IndiGo        11          55   \n",
       "2  Jammu      Mumbai   2 Stop(s)  7,365    IndiGo        14           0   \n",
       "3  Jammu      Mumbai   2 Stop(s)  7,365    IndiGo        11          55   \n",
       "4  Jammu      Mumbai      1 Stop  7,418  SpiceJet        11          15   \n",
       "\n",
       "  Arrival_Hour Arrival_minute  Duration_hours  Duration_mins  \n",
       "0           19             25               7             30  \n",
       "1           20             50               8             55  \n",
       "2           23             30               9             30  \n",
       "3           23             30              11             35  \n",
       "4           16             15               5              0  "
      ]
     },
     "execution_count": 31,
     "metadata": {},
     "output_type": "execute_result"
    }
   ],
   "source": [
    "df.head()"
   ]
  },
  {
   "cell_type": "markdown",
   "id": "aa8e28a0",
   "metadata": {},
   "source": [
    "Successfully dropped."
   ]
  },
  {
   "cell_type": "markdown",
   "id": "5a75db2c",
   "metadata": {},
   "source": [
    "__Total_Stops :__"
   ]
  },
  {
   "cell_type": "code",
   "execution_count": 32,
   "id": "f4bc5c8c",
   "metadata": {},
   "outputs": [],
   "source": [
    "df.Total_Stops.replace(['1 Stop', '2 Stop(s)', '3 Stop(s)'],[1,2,3],inplace=True)"
   ]
  },
  {
   "cell_type": "code",
   "execution_count": 33,
   "id": "72cd6fce",
   "metadata": {},
   "outputs": [
    {
     "data": {
      "text/html": [
       "<div>\n",
       "<style scoped>\n",
       "    .dataframe tbody tr th:only-of-type {\n",
       "        vertical-align: middle;\n",
       "    }\n",
       "\n",
       "    .dataframe tbody tr th {\n",
       "        vertical-align: top;\n",
       "    }\n",
       "\n",
       "    .dataframe thead th {\n",
       "        text-align: right;\n",
       "    }\n",
       "</style>\n",
       "<table border=\"1\" class=\"dataframe\">\n",
       "  <thead>\n",
       "    <tr style=\"text-align: right;\">\n",
       "      <th></th>\n",
       "      <th>Source</th>\n",
       "      <th>Destination</th>\n",
       "      <th>Total_Stops</th>\n",
       "      <th>price</th>\n",
       "      <th>Airlines</th>\n",
       "      <th>Dep_hour</th>\n",
       "      <th>Dep_minute</th>\n",
       "      <th>Arrival_Hour</th>\n",
       "      <th>Arrival_minute</th>\n",
       "      <th>Duration_hours</th>\n",
       "      <th>Duration_mins</th>\n",
       "    </tr>\n",
       "  </thead>\n",
       "  <tbody>\n",
       "    <tr>\n",
       "      <th>0</th>\n",
       "      <td>Jammu</td>\n",
       "      <td>Mumbai</td>\n",
       "      <td>2</td>\n",
       "      <td>7,365</td>\n",
       "      <td>IndiGo</td>\n",
       "      <td>11</td>\n",
       "      <td>55</td>\n",
       "      <td>19</td>\n",
       "      <td>25</td>\n",
       "      <td>7</td>\n",
       "      <td>30</td>\n",
       "    </tr>\n",
       "    <tr>\n",
       "      <th>1</th>\n",
       "      <td>Jammu</td>\n",
       "      <td>Mumbai</td>\n",
       "      <td>2</td>\n",
       "      <td>7,365</td>\n",
       "      <td>IndiGo</td>\n",
       "      <td>11</td>\n",
       "      <td>55</td>\n",
       "      <td>20</td>\n",
       "      <td>50</td>\n",
       "      <td>8</td>\n",
       "      <td>55</td>\n",
       "    </tr>\n",
       "    <tr>\n",
       "      <th>2</th>\n",
       "      <td>Jammu</td>\n",
       "      <td>Mumbai</td>\n",
       "      <td>2</td>\n",
       "      <td>7,365</td>\n",
       "      <td>IndiGo</td>\n",
       "      <td>14</td>\n",
       "      <td>0</td>\n",
       "      <td>23</td>\n",
       "      <td>30</td>\n",
       "      <td>9</td>\n",
       "      <td>30</td>\n",
       "    </tr>\n",
       "    <tr>\n",
       "      <th>3</th>\n",
       "      <td>Jammu</td>\n",
       "      <td>Mumbai</td>\n",
       "      <td>2</td>\n",
       "      <td>7,365</td>\n",
       "      <td>IndiGo</td>\n",
       "      <td>11</td>\n",
       "      <td>55</td>\n",
       "      <td>23</td>\n",
       "      <td>30</td>\n",
       "      <td>11</td>\n",
       "      <td>35</td>\n",
       "    </tr>\n",
       "    <tr>\n",
       "      <th>4</th>\n",
       "      <td>Jammu</td>\n",
       "      <td>Mumbai</td>\n",
       "      <td>1</td>\n",
       "      <td>7,418</td>\n",
       "      <td>SpiceJet</td>\n",
       "      <td>11</td>\n",
       "      <td>15</td>\n",
       "      <td>16</td>\n",
       "      <td>15</td>\n",
       "      <td>5</td>\n",
       "      <td>0</td>\n",
       "    </tr>\n",
       "  </tbody>\n",
       "</table>\n",
       "</div>"
      ],
      "text/plain": [
       "  Source Destination  Total_Stops  price  Airlines  Dep_hour  Dep_minute  \\\n",
       "0  Jammu      Mumbai            2  7,365    IndiGo        11          55   \n",
       "1  Jammu      Mumbai            2  7,365    IndiGo        11          55   \n",
       "2  Jammu      Mumbai            2  7,365    IndiGo        14           0   \n",
       "3  Jammu      Mumbai            2  7,365    IndiGo        11          55   \n",
       "4  Jammu      Mumbai            1  7,418  SpiceJet        11          15   \n",
       "\n",
       "  Arrival_Hour Arrival_minute  Duration_hours  Duration_mins  \n",
       "0           19             25               7             30  \n",
       "1           20             50               8             55  \n",
       "2           23             30               9             30  \n",
       "3           23             30              11             35  \n",
       "4           16             15               5              0  "
      ]
     },
     "execution_count": 33,
     "metadata": {},
     "output_type": "execute_result"
    }
   ],
   "source": [
    "df.head()"
   ]
  },
  {
   "cell_type": "markdown",
   "id": "de30200a",
   "metadata": {},
   "source": [
    "Successfully replaced."
   ]
  },
  {
   "cell_type": "markdown",
   "id": "6fff20ec",
   "metadata": {},
   "source": [
    "__price :__"
   ]
  },
  {
   "cell_type": "code",
   "execution_count": 34,
   "id": "0feba261",
   "metadata": {},
   "outputs": [],
   "source": [
    "df['price']=df['price'].replace(\",\",\"\",regex=True)"
   ]
  },
  {
   "cell_type": "code",
   "execution_count": 35,
   "id": "3b7ec68f",
   "metadata": {},
   "outputs": [],
   "source": [
    "df['price']=df['price'].astype('int64')"
   ]
  },
  {
   "cell_type": "code",
   "execution_count": 36,
   "id": "5b3263a5",
   "metadata": {},
   "outputs": [
    {
     "data": {
      "text/html": [
       "<div>\n",
       "<style scoped>\n",
       "    .dataframe tbody tr th:only-of-type {\n",
       "        vertical-align: middle;\n",
       "    }\n",
       "\n",
       "    .dataframe tbody tr th {\n",
       "        vertical-align: top;\n",
       "    }\n",
       "\n",
       "    .dataframe thead th {\n",
       "        text-align: right;\n",
       "    }\n",
       "</style>\n",
       "<table border=\"1\" class=\"dataframe\">\n",
       "  <thead>\n",
       "    <tr style=\"text-align: right;\">\n",
       "      <th></th>\n",
       "      <th>Source</th>\n",
       "      <th>Destination</th>\n",
       "      <th>Total_Stops</th>\n",
       "      <th>price</th>\n",
       "      <th>Airlines</th>\n",
       "      <th>Dep_hour</th>\n",
       "      <th>Dep_minute</th>\n",
       "      <th>Arrival_Hour</th>\n",
       "      <th>Arrival_minute</th>\n",
       "      <th>Duration_hours</th>\n",
       "      <th>Duration_mins</th>\n",
       "    </tr>\n",
       "  </thead>\n",
       "  <tbody>\n",
       "    <tr>\n",
       "      <th>0</th>\n",
       "      <td>Jammu</td>\n",
       "      <td>Mumbai</td>\n",
       "      <td>2</td>\n",
       "      <td>7365</td>\n",
       "      <td>IndiGo</td>\n",
       "      <td>11</td>\n",
       "      <td>55</td>\n",
       "      <td>19</td>\n",
       "      <td>25</td>\n",
       "      <td>7</td>\n",
       "      <td>30</td>\n",
       "    </tr>\n",
       "    <tr>\n",
       "      <th>1</th>\n",
       "      <td>Jammu</td>\n",
       "      <td>Mumbai</td>\n",
       "      <td>2</td>\n",
       "      <td>7365</td>\n",
       "      <td>IndiGo</td>\n",
       "      <td>11</td>\n",
       "      <td>55</td>\n",
       "      <td>20</td>\n",
       "      <td>50</td>\n",
       "      <td>8</td>\n",
       "      <td>55</td>\n",
       "    </tr>\n",
       "    <tr>\n",
       "      <th>2</th>\n",
       "      <td>Jammu</td>\n",
       "      <td>Mumbai</td>\n",
       "      <td>2</td>\n",
       "      <td>7365</td>\n",
       "      <td>IndiGo</td>\n",
       "      <td>14</td>\n",
       "      <td>0</td>\n",
       "      <td>23</td>\n",
       "      <td>30</td>\n",
       "      <td>9</td>\n",
       "      <td>30</td>\n",
       "    </tr>\n",
       "    <tr>\n",
       "      <th>3</th>\n",
       "      <td>Jammu</td>\n",
       "      <td>Mumbai</td>\n",
       "      <td>2</td>\n",
       "      <td>7365</td>\n",
       "      <td>IndiGo</td>\n",
       "      <td>11</td>\n",
       "      <td>55</td>\n",
       "      <td>23</td>\n",
       "      <td>30</td>\n",
       "      <td>11</td>\n",
       "      <td>35</td>\n",
       "    </tr>\n",
       "    <tr>\n",
       "      <th>4</th>\n",
       "      <td>Jammu</td>\n",
       "      <td>Mumbai</td>\n",
       "      <td>1</td>\n",
       "      <td>7418</td>\n",
       "      <td>SpiceJet</td>\n",
       "      <td>11</td>\n",
       "      <td>15</td>\n",
       "      <td>16</td>\n",
       "      <td>15</td>\n",
       "      <td>5</td>\n",
       "      <td>0</td>\n",
       "    </tr>\n",
       "  </tbody>\n",
       "</table>\n",
       "</div>"
      ],
      "text/plain": [
       "  Source Destination  Total_Stops  price  Airlines  Dep_hour  Dep_minute  \\\n",
       "0  Jammu      Mumbai            2   7365    IndiGo        11          55   \n",
       "1  Jammu      Mumbai            2   7365    IndiGo        11          55   \n",
       "2  Jammu      Mumbai            2   7365    IndiGo        14           0   \n",
       "3  Jammu      Mumbai            2   7365    IndiGo        11          55   \n",
       "4  Jammu      Mumbai            1   7418  SpiceJet        11          15   \n",
       "\n",
       "  Arrival_Hour Arrival_minute  Duration_hours  Duration_mins  \n",
       "0           19             25               7             30  \n",
       "1           20             50               8             55  \n",
       "2           23             30               9             30  \n",
       "3           23             30              11             35  \n",
       "4           16             15               5              0  "
      ]
     },
     "execution_count": 36,
     "metadata": {},
     "output_type": "execute_result"
    }
   ],
   "source": [
    "df.head()"
   ]
  },
  {
   "cell_type": "markdown",
   "id": "cf93a0b0",
   "metadata": {},
   "source": [
    "So here we have the final cleaned dataset."
   ]
  },
  {
   "cell_type": "markdown",
   "id": "1621ef4e",
   "metadata": {},
   "source": [
    "# Univariate Analysis :"
   ]
  },
  {
   "cell_type": "code",
   "execution_count": 37,
   "id": "073af451",
   "metadata": {},
   "outputs": [
    {
     "data": {
      "text/plain": [
       "<AxesSubplot:xlabel='Source', ylabel='count'>"
      ]
     },
     "execution_count": 37,
     "metadata": {},
     "output_type": "execute_result"
    },
    {
     "data": {
      "image/png": "[encoded data removed]",
      "text/plain": [
       "<Figure size 432x288 with 1 Axes>"
      ]
     },
     "metadata": {
      "needs_background": "light"
     },
     "output_type": "display_data"
    }
   ],
   "source": [
    "sns.countplot(x='Source', data=df)"
   ]
  },
  {
   "cell_type": "markdown",
   "id": "9b05d69f",
   "metadata": {},
   "source": [
    "Mostly the people are travelling from bangalore."
   ]
  },
  {
   "cell_type": "code",
   "execution_count": 38,
   "id": "85e4aaad",
   "metadata": {},
   "outputs": [
    {
     "data": {
      "text/plain": [
       "<AxesSubplot:xlabel='Destination', ylabel='count'>"
      ]
     },
     "execution_count": 38,
     "metadata": {},
     "output_type": "execute_result"
    },
    {
     "data": {
      "image/png": "[encoded data removed]",
      "text/plain": [
       "<Figure size 432x288 with 1 Axes>"
      ]
     },
     "metadata": {
      "needs_background": "light"
     },
     "output_type": "display_data"
    }
   ],
   "source": [
    "sns.countplot(x='Destination', data=df)"
   ]
  },
  {
   "cell_type": "markdown",
   "id": "a5a7a3c4",
   "metadata": {},
   "source": [
    "And the destinstion is mostly Goa and kolkata."
   ]
  },
  {
   "cell_type": "code",
   "execution_count": 39,
   "id": "917ebd04",
   "metadata": {},
   "outputs": [
    {
     "data": {
      "text/plain": [
       "<AxesSubplot:xlabel='Total_Stops', ylabel='count'>"
      ]
     },
     "execution_count": 39,
     "metadata": {},
     "output_type": "execute_result"
    },
    {
     "data": {
      "image/png": "[encoded data removed]",
      "text/plain": [
       "<Figure size 432x288 with 1 Axes>"
      ]
     },
     "metadata": {
      "needs_background": "light"
     },
     "output_type": "display_data"
    }
   ],
   "source": [
    "sns.countplot(x='Total_Stops', data=df)"
   ]
  },
  {
   "cell_type": "markdown",
   "id": "54dfa3b4",
   "metadata": {},
   "source": [
    "Most people usually prefer routes with 1 stopage."
   ]
  },
  {
   "cell_type": "code",
   "execution_count": 40,
   "id": "d6f2201f",
   "metadata": {},
   "outputs": [],
   "source": [
    "import matplotlib.pyplot as plt"
   ]
  },
  {
   "cell_type": "code",
   "execution_count": 41,
   "id": "b4b2857d",
   "metadata": {},
   "outputs": [
    {
     "data": {
      "text/plain": [
       "<AxesSubplot:xlabel='price', ylabel='Density'>"
      ]
     },
     "execution_count": 41,
     "metadata": {},
     "output_type": "execute_result"
    },
    {
     "data": {
      "image/png": "[encoded data removed]",
      "text/plain": [
       "<Figure size 720x360 with 1 Axes>"
      ]
     },
     "metadata": {
      "needs_background": "light"
     },
     "output_type": "display_data"
    }
   ],
   "source": [
    "plt.figure(figsize=(10,5))\n",
    "sns.distplot(df['price'], color='darkgreen')"
   ]
  },
  {
   "cell_type": "markdown",
   "id": "8da47bb4",
   "metadata": {},
   "source": [
    "Mostly the flight prices ranges around Rs. 8000."
   ]
  },
  {
   "cell_type": "code",
   "execution_count": 42,
   "id": "1a97b3f0",
   "metadata": {},
   "outputs": [
    {
     "data": {
      "text/plain": [
       "<AxesSubplot:xlabel='Airlines', ylabel='count'>"
      ]
     },
     "execution_count": 42,
     "metadata": {},
     "output_type": "execute_result"
    },
    {
     "data": {
      "image/png": "[encoded data removed]",
      "text/plain": [
       "<Figure size 432x288 with 1 Axes>"
      ]
     },
     "metadata": {
      "needs_background": "light"
     },
     "output_type": "display_data"
    }
   ],
   "source": [
    "sns.countplot(x='Airlines', data=df)"
   ]
  },
  {
   "cell_type": "code",
   "execution_count": 43,
   "id": "d1578a4d",
   "metadata": {},
   "outputs": [
    {
     "data": {
      "text/plain": [
       "<AxesSubplot:xlabel='Dep_hour', ylabel='Density'>"
      ]
     },
     "execution_count": 43,
     "metadata": {},
     "output_type": "execute_result"
    },
    {
     "data": {
      "image/png": "[encoded data removed]",
      "text/plain": [
       "<Figure size 720x360 with 1 Axes>"
      ]
     },
     "metadata": {
      "needs_background": "light"
     },
     "output_type": "display_data"
    }
   ],
   "source": [
    "plt.figure(figsize=(10,5))\n",
    "sns.distplot(df['Dep_hour'], color='darkgreen')"
   ]
  },
  {
   "cell_type": "code",
   "execution_count": 44,
   "id": "30f5c893",
   "metadata": {},
   "outputs": [
    {
     "data": {
      "text/plain": [
       "<AxesSubplot:xlabel='Arrival_Hour', ylabel='Density'>"
      ]
     },
     "execution_count": 44,
     "metadata": {},
     "output_type": "execute_result"
    },
    {
     "data": {
      "image/png": "[encoded data removed]",
      "text/plain": [
       "<Figure size 720x360 with 1 Axes>"
      ]
     },
     "metadata": {
      "needs_background": "light"
     },
     "output_type": "display_data"
    }
   ],
   "source": [
    "plt.figure(figsize=(10,5))\n",
    "sns.distplot(df['Arrival_Hour'], color='darkgreen')"
   ]
  },
  {
   "cell_type": "code",
   "execution_count": 45,
   "id": "2d3d2857",
   "metadata": {},
   "outputs": [
    {
     "data": {
      "text/plain": [
       "<AxesSubplot:xlabel='Duration_hours', ylabel='Density'>"
      ]
     },
     "execution_count": 45,
     "metadata": {},
     "output_type": "execute_result"
    },
    {
     "data": {
      "image/png": "[encoded data removed]",
      "text/plain": [
       "<Figure size 720x360 with 1 Axes>"
      ]
     },
     "metadata": {
      "needs_background": "light"
     },
     "output_type": "display_data"
    }
   ],
   "source": [
    "plt.figure(figsize=(10,5))\n",
    "sns.distplot(df['Duration_hours'], color='darkgreen')"
   ]
  },
  {
   "cell_type": "markdown",
   "id": "4dd57dfd",
   "metadata": {},
   "source": [
    "# Bivariate Analysis :"
   ]
  },
  {
   "cell_type": "code",
   "execution_count": 46,
   "id": "2120ae53",
   "metadata": {},
   "outputs": [
    {
     "data": {
      "text/plain": [
       "<AxesSubplot:xlabel='Source', ylabel='price'>"
      ]
     },
     "execution_count": 46,
     "metadata": {},
     "output_type": "execute_result"
    },
    {
     "data": {
      "image/png": "[encoded data removed]",
      "text/plain": [
       "<Figure size 432x288 with 1 Axes>"
      ]
     },
     "metadata": {
      "needs_background": "light"
     },
     "output_type": "display_data"
    }
   ],
   "source": [
    "sns.barplot(data=df, x='Source',y='price')"
   ]
  },
  {
   "cell_type": "markdown",
   "id": "b9b39ddd",
   "metadata": {},
   "source": [
    "Flight price from mumbai is highest."
   ]
  },
  {
   "cell_type": "code",
   "execution_count": 47,
   "id": "f5fcb9c8",
   "metadata": {},
   "outputs": [
    {
     "data": {
      "text/plain": [
       "<AxesSubplot:xlabel='Destination', ylabel='price'>"
      ]
     },
     "execution_count": 47,
     "metadata": {},
     "output_type": "execute_result"
    },
    {
     "data": {
      "image/png": "[encoded data removed]",
      "text/plain": [
       "<Figure size 432x288 with 1 Axes>"
      ]
     },
     "metadata": {
      "needs_background": "light"
     },
     "output_type": "display_data"
    }
   ],
   "source": [
    "sns.barplot(data=df, x='Destination',y='price')"
   ]
  },
  {
   "cell_type": "markdown",
   "id": "dd83af52",
   "metadata": {},
   "source": [
    "Flight price for bagdogra is highest."
   ]
  },
  {
   "cell_type": "code",
   "execution_count": 48,
   "id": "98ab286c",
   "metadata": {},
   "outputs": [
    {
     "data": {
      "text/plain": [
       "<AxesSubplot:xlabel='Total_Stops', ylabel='price'>"
      ]
     },
     "execution_count": 48,
     "metadata": {},
     "output_type": "execute_result"
    },
    {
     "data": {
      "image/png": "[encoded data removed]",
      "text/plain": [
       "<Figure size 432x288 with 1 Axes>"
      ]
     },
     "metadata": {
      "needs_background": "light"
     },
     "output_type": "display_data"
    }
   ],
   "source": [
    "sns.barplot(data=df, x='Total_Stops',y='price')"
   ]
  },
  {
   "cell_type": "markdown",
   "id": "65c2c758",
   "metadata": {},
   "source": [
    "Flight prices are highest for routes with 3 stoppages."
   ]
  },
  {
   "cell_type": "code",
   "execution_count": 49,
   "id": "51dcce98",
   "metadata": {},
   "outputs": [
    {
     "data": {
      "text/plain": [
       "<AxesSubplot:xlabel='Airlines', ylabel='price'>"
      ]
     },
     "execution_count": 49,
     "metadata": {},
     "output_type": "execute_result"
    },
    {
     "data": {
      "image/png": "[encoded data removed]",
      "text/plain": [
       "<Figure size 432x288 with 1 Axes>"
      ]
     },
     "metadata": {
      "needs_background": "light"
     },
     "output_type": "display_data"
    }
   ],
   "source": [
    "sns.barplot(data=df, x='Airlines',y='price')"
   ]
  },
  {
   "cell_type": "code",
   "execution_count": 50,
   "id": "36974c91",
   "metadata": {},
   "outputs": [
    {
     "data": {
      "text/plain": [
       "<AxesSubplot:xlabel='Dep_hour', ylabel='price'>"
      ]
     },
     "execution_count": 50,
     "metadata": {},
     "output_type": "execute_result"
    },
    {
     "data": {
      "image/png": "[encoded data removed]",
      "text/plain": [
       "<Figure size 432x288 with 1 Axes>"
      ]
     },
     "metadata": {
      "needs_background": "light"
     },
     "output_type": "display_data"
    }
   ],
   "source": [
    "sns.stripplot(data=df, x='Dep_hour',y='price')"
   ]
  },
  {
   "cell_type": "code",
   "execution_count": 51,
   "id": "4de1dc5e",
   "metadata": {},
   "outputs": [
    {
     "data": {
      "text/plain": [
       "<AxesSubplot:xlabel='Arrival_Hour', ylabel='price'>"
      ]
     },
     "execution_count": 51,
     "metadata": {},
     "output_type": "execute_result"
    },
    {
     "data": {
      "image/png": "[encoded data removed]",
      "text/plain": [
       "<Figure size 432x288 with 1 Axes>"
      ]
     },
     "metadata": {
      "needs_background": "light"
     },
     "output_type": "display_data"
    }
   ],
   "source": [
    "sns.stripplot(data=df, x='Arrival_Hour',y='price')"
   ]
  },
  {
   "cell_type": "code",
   "execution_count": 52,
   "id": "9d1acba8",
   "metadata": {},
   "outputs": [
    {
     "data": {
      "text/plain": [
       "<AxesSubplot:xlabel='Duration_hours', ylabel='price'>"
      ]
     },
     "execution_count": 52,
     "metadata": {},
     "output_type": "execute_result"
    },
    {
     "data": {
      "image/png": "[encoded data removed]",
      "text/plain": [
       "<Figure size 432x288 with 1 Axes>"
      ]
     },
     "metadata": {
      "needs_background": "light"
     },
     "output_type": "display_data"
    }
   ],
   "source": [
    "sns.stripplot(data=df, x='Duration_hours',y='price')"
   ]
  },
  {
   "cell_type": "markdown",
   "id": "fc527d08",
   "metadata": {},
   "source": [
    "# Multivariate Analysis :"
   ]
  },
  {
   "cell_type": "code",
   "execution_count": 53,
   "id": "9eed5d2a",
   "metadata": {},
   "outputs": [
    {
     "data": {
      "text/plain": [
       "<seaborn.axisgrid.PairGrid at 0x1aade96efd0>"
      ]
     },
     "execution_count": 53,
     "metadata": {},
     "output_type": "execute_result"
    },
    {
     "data": {
      "image/png": "[encoded data removed]",
      "text/plain": [
       "<Figure size 1080x1080 with 42 Axes>"
      ]
     },
     "metadata": {
      "needs_background": "light"
     },
     "output_type": "display_data"
    }
   ],
   "source": [
    "sns.pairplot(df)"
   ]
  },
  {
   "cell_type": "markdown",
   "id": "708dd8e9",
   "metadata": {},
   "source": [
    "# Label Encoder :"
   ]
  },
  {
   "cell_type": "code",
   "execution_count": 54,
   "id": "ce68f218",
   "metadata": {},
   "outputs": [],
   "source": [
    "from sklearn.preprocessing import LabelEncoder"
   ]
  },
  {
   "cell_type": "code",
   "execution_count": 55,
   "id": "4f88cfc5",
   "metadata": {},
   "outputs": [],
   "source": [
    "le=LabelEncoder()"
   ]
  },
  {
   "cell_type": "code",
   "execution_count": 56,
   "id": "7af8bc8a",
   "metadata": {},
   "outputs": [],
   "source": [
    "for i in df.columns:\n",
    "    if df[i].dtype==\"object\":\n",
    "        df[i]=le.fit_transform(df[i])"
   ]
  },
  {
   "cell_type": "code",
   "execution_count": 57,
   "id": "d0e24613",
   "metadata": {},
   "outputs": [
    {
     "data": {
      "text/html": [
       "<div>\n",
       "<style scoped>\n",
       "    .dataframe tbody tr th:only-of-type {\n",
       "        vertical-align: middle;\n",
       "    }\n",
       "\n",
       "    .dataframe tbody tr th {\n",
       "        vertical-align: top;\n",
       "    }\n",
       "\n",
       "    .dataframe thead th {\n",
       "        text-align: right;\n",
       "    }\n",
       "</style>\n",
       "<table border=\"1\" class=\"dataframe\">\n",
       "  <thead>\n",
       "    <tr style=\"text-align: right;\">\n",
       "      <th></th>\n",
       "      <th>Source</th>\n",
       "      <th>Destination</th>\n",
       "      <th>Total_Stops</th>\n",
       "      <th>price</th>\n",
       "      <th>Airlines</th>\n",
       "      <th>Dep_hour</th>\n",
       "      <th>Dep_minute</th>\n",
       "      <th>Arrival_Hour</th>\n",
       "      <th>Arrival_minute</th>\n",
       "      <th>Duration_hours</th>\n",
       "      <th>Duration_mins</th>\n",
       "    </tr>\n",
       "  </thead>\n",
       "  <tbody>\n",
       "    <tr>\n",
       "      <th>0</th>\n",
       "      <td>1</td>\n",
       "      <td>3</td>\n",
       "      <td>2</td>\n",
       "      <td>7365</td>\n",
       "      <td>2</td>\n",
       "      <td>11</td>\n",
       "      <td>55</td>\n",
       "      <td>15</td>\n",
       "      <td>10</td>\n",
       "      <td>7</td>\n",
       "      <td>30</td>\n",
       "    </tr>\n",
       "    <tr>\n",
       "      <th>1</th>\n",
       "      <td>1</td>\n",
       "      <td>3</td>\n",
       "      <td>2</td>\n",
       "      <td>7365</td>\n",
       "      <td>2</td>\n",
       "      <td>11</td>\n",
       "      <td>55</td>\n",
       "      <td>16</td>\n",
       "      <td>20</td>\n",
       "      <td>8</td>\n",
       "      <td>55</td>\n",
       "    </tr>\n",
       "    <tr>\n",
       "      <th>2</th>\n",
       "      <td>1</td>\n",
       "      <td>3</td>\n",
       "      <td>2</td>\n",
       "      <td>7365</td>\n",
       "      <td>2</td>\n",
       "      <td>14</td>\n",
       "      <td>0</td>\n",
       "      <td>19</td>\n",
       "      <td>12</td>\n",
       "      <td>9</td>\n",
       "      <td>30</td>\n",
       "    </tr>\n",
       "    <tr>\n",
       "      <th>3</th>\n",
       "      <td>1</td>\n",
       "      <td>3</td>\n",
       "      <td>2</td>\n",
       "      <td>7365</td>\n",
       "      <td>2</td>\n",
       "      <td>11</td>\n",
       "      <td>55</td>\n",
       "      <td>19</td>\n",
       "      <td>12</td>\n",
       "      <td>11</td>\n",
       "      <td>35</td>\n",
       "    </tr>\n",
       "    <tr>\n",
       "      <th>4</th>\n",
       "      <td>1</td>\n",
       "      <td>3</td>\n",
       "      <td>1</td>\n",
       "      <td>7418</td>\n",
       "      <td>3</td>\n",
       "      <td>11</td>\n",
       "      <td>15</td>\n",
       "      <td>12</td>\n",
       "      <td>6</td>\n",
       "      <td>5</td>\n",
       "      <td>0</td>\n",
       "    </tr>\n",
       "    <tr>\n",
       "      <th>5</th>\n",
       "      <td>1</td>\n",
       "      <td>3</td>\n",
       "      <td>1</td>\n",
       "      <td>7418</td>\n",
       "      <td>3</td>\n",
       "      <td>14</td>\n",
       "      <td>35</td>\n",
       "      <td>17</td>\n",
       "      <td>16</td>\n",
       "      <td>7</td>\n",
       "      <td>5</td>\n",
       "    </tr>\n",
       "    <tr>\n",
       "      <th>6</th>\n",
       "      <td>1</td>\n",
       "      <td>3</td>\n",
       "      <td>1</td>\n",
       "      <td>7418</td>\n",
       "      <td>3</td>\n",
       "      <td>14</td>\n",
       "      <td>35</td>\n",
       "      <td>4</td>\n",
       "      <td>17</td>\n",
       "      <td>18</td>\n",
       "      <td>5</td>\n",
       "    </tr>\n",
       "    <tr>\n",
       "      <th>7</th>\n",
       "      <td>1</td>\n",
       "      <td>3</td>\n",
       "      <td>1</td>\n",
       "      <td>7418</td>\n",
       "      <td>3</td>\n",
       "      <td>15</td>\n",
       "      <td>20</td>\n",
       "      <td>12</td>\n",
       "      <td>7</td>\n",
       "      <td>24</td>\n",
       "      <td>55</td>\n",
       "    </tr>\n",
       "    <tr>\n",
       "      <th>8</th>\n",
       "      <td>1</td>\n",
       "      <td>3</td>\n",
       "      <td>1</td>\n",
       "      <td>8014</td>\n",
       "      <td>2</td>\n",
       "      <td>16</td>\n",
       "      <td>30</td>\n",
       "      <td>19</td>\n",
       "      <td>12</td>\n",
       "      <td>7</td>\n",
       "      <td>0</td>\n",
       "    </tr>\n",
       "    <tr>\n",
       "      <th>9</th>\n",
       "      <td>1</td>\n",
       "      <td>3</td>\n",
       "      <td>1</td>\n",
       "      <td>8450</td>\n",
       "      <td>4</td>\n",
       "      <td>15</td>\n",
       "      <td>35</td>\n",
       "      <td>16</td>\n",
       "      <td>2</td>\n",
       "      <td>4</td>\n",
       "      <td>30</td>\n",
       "    </tr>\n",
       "  </tbody>\n",
       "</table>\n",
       "</div>"
      ],
      "text/plain": [
       "   Source  Destination  Total_Stops  price  Airlines  Dep_hour  Dep_minute  \\\n",
       "0       1            3            2   7365         2        11          55   \n",
       "1       1            3            2   7365         2        11          55   \n",
       "2       1            3            2   7365         2        14           0   \n",
       "3       1            3            2   7365         2        11          55   \n",
       "4       1            3            1   7418         3        11          15   \n",
       "5       1            3            1   7418         3        14          35   \n",
       "6       1            3            1   7418         3        14          35   \n",
       "7       1            3            1   7418         3        15          20   \n",
       "8       1            3            1   8014         2        16          30   \n",
       "9       1            3            1   8450         4        15          35   \n",
       "\n",
       "   Arrival_Hour  Arrival_minute  Duration_hours  Duration_mins  \n",
       "0            15              10               7             30  \n",
       "1            16              20               8             55  \n",
       "2            19              12               9             30  \n",
       "3            19              12              11             35  \n",
       "4            12               6               5              0  \n",
       "5            17              16               7              5  \n",
       "6             4              17              18              5  \n",
       "7            12               7              24             55  \n",
       "8            19              12               7              0  \n",
       "9            16               2               4             30  "
      ]
     },
     "execution_count": 57,
     "metadata": {},
     "output_type": "execute_result"
    }
   ],
   "source": [
    "df.head(10)"
   ]
  },
  {
   "cell_type": "code",
   "execution_count": 58,
   "id": "6e73683e",
   "metadata": {},
   "outputs": [
    {
     "data": {
      "text/html": [
       "<div>\n",
       "<style scoped>\n",
       "    .dataframe tbody tr th:only-of-type {\n",
       "        vertical-align: middle;\n",
       "    }\n",
       "\n",
       "    .dataframe tbody tr th {\n",
       "        vertical-align: top;\n",
       "    }\n",
       "\n",
       "    .dataframe thead th {\n",
       "        text-align: right;\n",
       "    }\n",
       "</style>\n",
       "<table border=\"1\" class=\"dataframe\">\n",
       "  <thead>\n",
       "    <tr style=\"text-align: right;\">\n",
       "      <th></th>\n",
       "      <th>count</th>\n",
       "      <th>mean</th>\n",
       "      <th>std</th>\n",
       "      <th>min</th>\n",
       "      <th>25%</th>\n",
       "      <th>50%</th>\n",
       "      <th>75%</th>\n",
       "      <th>max</th>\n",
       "    </tr>\n",
       "  </thead>\n",
       "  <tbody>\n",
       "    <tr>\n",
       "      <th>Source</th>\n",
       "      <td>6730.0</td>\n",
       "      <td>1.433135</td>\n",
       "      <td>1.281602</td>\n",
       "      <td>0.0</td>\n",
       "      <td>0.0</td>\n",
       "      <td>1.0</td>\n",
       "      <td>3.0</td>\n",
       "      <td>3.0</td>\n",
       "    </tr>\n",
       "    <tr>\n",
       "      <th>Destination</th>\n",
       "      <td>6730.0</td>\n",
       "      <td>1.477712</td>\n",
       "      <td>0.923525</td>\n",
       "      <td>0.0</td>\n",
       "      <td>1.0</td>\n",
       "      <td>1.0</td>\n",
       "      <td>2.0</td>\n",
       "      <td>3.0</td>\n",
       "    </tr>\n",
       "    <tr>\n",
       "      <th>Total_Stops</th>\n",
       "      <td>6730.0</td>\n",
       "      <td>1.273254</td>\n",
       "      <td>0.494657</td>\n",
       "      <td>1.0</td>\n",
       "      <td>1.0</td>\n",
       "      <td>1.0</td>\n",
       "      <td>2.0</td>\n",
       "      <td>3.0</td>\n",
       "    </tr>\n",
       "    <tr>\n",
       "      <th>price</th>\n",
       "      <td>6730.0</td>\n",
       "      <td>9354.786627</td>\n",
       "      <td>2505.238996</td>\n",
       "      <td>4337.0</td>\n",
       "      <td>7743.0</td>\n",
       "      <td>8662.0</td>\n",
       "      <td>11838.0</td>\n",
       "      <td>14678.0</td>\n",
       "    </tr>\n",
       "    <tr>\n",
       "      <th>Airlines</th>\n",
       "      <td>6730.0</td>\n",
       "      <td>1.845171</td>\n",
       "      <td>1.553077</td>\n",
       "      <td>0.0</td>\n",
       "      <td>0.0</td>\n",
       "      <td>2.0</td>\n",
       "      <td>4.0</td>\n",
       "      <td>4.0</td>\n",
       "    </tr>\n",
       "    <tr>\n",
       "      <th>Dep_hour</th>\n",
       "      <td>6730.0</td>\n",
       "      <td>13.194502</td>\n",
       "      <td>5.175740</td>\n",
       "      <td>4.0</td>\n",
       "      <td>9.0</td>\n",
       "      <td>13.0</td>\n",
       "      <td>16.0</td>\n",
       "      <td>23.0</td>\n",
       "    </tr>\n",
       "    <tr>\n",
       "      <th>Dep_minute</th>\n",
       "      <td>6730.0</td>\n",
       "      <td>30.161961</td>\n",
       "      <td>17.786249</td>\n",
       "      <td>0.0</td>\n",
       "      <td>20.0</td>\n",
       "      <td>30.0</td>\n",
       "      <td>45.0</td>\n",
       "      <td>55.0</td>\n",
       "    </tr>\n",
       "    <tr>\n",
       "      <th>Arrival_Hour</th>\n",
       "      <td>6730.0</td>\n",
       "      <td>9.801189</td>\n",
       "      <td>5.139949</td>\n",
       "      <td>0.0</td>\n",
       "      <td>5.0</td>\n",
       "      <td>10.0</td>\n",
       "      <td>15.0</td>\n",
       "      <td>19.0</td>\n",
       "    </tr>\n",
       "    <tr>\n",
       "      <th>Arrival_minute</th>\n",
       "      <td>6730.0</td>\n",
       "      <td>12.071471</td>\n",
       "      <td>6.728815</td>\n",
       "      <td>0.0</td>\n",
       "      <td>6.0</td>\n",
       "      <td>12.0</td>\n",
       "      <td>19.0</td>\n",
       "      <td>23.0</td>\n",
       "    </tr>\n",
       "    <tr>\n",
       "      <th>Duration_hours</th>\n",
       "      <td>6730.0</td>\n",
       "      <td>13.825706</td>\n",
       "      <td>7.676690</td>\n",
       "      <td>1.0</td>\n",
       "      <td>8.0</td>\n",
       "      <td>14.0</td>\n",
       "      <td>19.0</td>\n",
       "      <td>33.0</td>\n",
       "    </tr>\n",
       "    <tr>\n",
       "      <th>Duration_mins</th>\n",
       "      <td>6730.0</td>\n",
       "      <td>24.651560</td>\n",
       "      <td>17.379002</td>\n",
       "      <td>0.0</td>\n",
       "      <td>5.0</td>\n",
       "      <td>20.0</td>\n",
       "      <td>40.0</td>\n",
       "      <td>55.0</td>\n",
       "    </tr>\n",
       "  </tbody>\n",
       "</table>\n",
       "</div>"
      ],
      "text/plain": [
       "                 count         mean          std     min     25%     50%  \\\n",
       "Source          6730.0     1.433135     1.281602     0.0     0.0     1.0   \n",
       "Destination     6730.0     1.477712     0.923525     0.0     1.0     1.0   \n",
       "Total_Stops     6730.0     1.273254     0.494657     1.0     1.0     1.0   \n",
       "price           6730.0  9354.786627  2505.238996  4337.0  7743.0  8662.0   \n",
       "Airlines        6730.0     1.845171     1.553077     0.0     0.0     2.0   \n",
       "Dep_hour        6730.0    13.194502     5.175740     4.0     9.0    13.0   \n",
       "Dep_minute      6730.0    30.161961    17.786249     0.0    20.0    30.0   \n",
       "Arrival_Hour    6730.0     9.801189     5.139949     0.0     5.0    10.0   \n",
       "Arrival_minute  6730.0    12.071471     6.728815     0.0     6.0    12.0   \n",
       "Duration_hours  6730.0    13.825706     7.676690     1.0     8.0    14.0   \n",
       "Duration_mins   6730.0    24.651560    17.379002     0.0     5.0    20.0   \n",
       "\n",
       "                    75%      max  \n",
       "Source              3.0      3.0  \n",
       "Destination         2.0      3.0  \n",
       "Total_Stops         2.0      3.0  \n",
       "price           11838.0  14678.0  \n",
       "Airlines            4.0      4.0  \n",
       "Dep_hour           16.0     23.0  \n",
       "Dep_minute         45.0     55.0  \n",
       "Arrival_Hour       15.0     19.0  \n",
       "Arrival_minute     19.0     23.0  \n",
       "Duration_hours     19.0     33.0  \n",
       "Duration_mins      40.0     55.0  "
      ]
     },
     "execution_count": 58,
     "metadata": {},
     "output_type": "execute_result"
    }
   ],
   "source": [
    "# Checking various factors of the dataset\n",
    "\n",
    "df.describe(include='all').T"
   ]
  },
  {
   "cell_type": "markdown",
   "id": "47d15729",
   "metadata": {},
   "source": [
    "__Observations :__\n",
    "\n",
    "   1. Some of the features has skewness, due the difference between mean and median of that features.\n",
    "   2. Outliers are present due to huge differences between the 75th percentile and the max value."
   ]
  },
  {
   "cell_type": "code",
   "execution_count": 59,
   "id": "032d49f8",
   "metadata": {},
   "outputs": [
    {
     "data": {
      "text/plain": [
       "Source            0.085206\n",
       "Destination       0.065360\n",
       "Total_Stops       1.574496\n",
       "price             0.105316\n",
       "Airlines          0.159997\n",
       "Dep_hour         -0.057263\n",
       "Dep_minute       -0.232382\n",
       "Arrival_Hour      0.004982\n",
       "Arrival_minute   -0.245418\n",
       "Duration_hours    0.302080\n",
       "Duration_mins     0.155137\n",
       "dtype: float64"
      ]
     },
     "execution_count": 59,
     "metadata": {},
     "output_type": "execute_result"
    }
   ],
   "source": [
    "# Checking Skewness of the dataset\n",
    "\n",
    "df.skew()"
   ]
  },
  {
   "cell_type": "markdown",
   "id": "f6f88338",
   "metadata": {},
   "source": [
    "_The data is fairly symmetrical if the skewness is between +/-0.5._\n",
    "\n",
    "_If the skewness is between -1 and – 0.5 or between 0.5 and 1, then there is a little decent skewness._\n",
    "\n",
    "_If the skewness is less than -1 or greater than 1, the data are highly skewed._\n",
    "\n",
    "__Observation :__\n",
    "    \n",
    "    \"Total_Stops\" is a little skewed\n",
    "    \n",
    "We can handle it later on using power transformation."
   ]
  },
  {
   "cell_type": "markdown",
   "id": "d9c83167",
   "metadata": {},
   "source": [
    "# Detecting Outliers :"
   ]
  },
  {
   "cell_type": "code",
   "execution_count": 60,
   "id": "aa5fa5a0",
   "metadata": {},
   "outputs": [
    {
     "data": {
      "text/plain": [
       "Source               AxesSubplot(0.125,0.657941;0.168478x0.222059)\n",
       "Destination       AxesSubplot(0.327174,0.657941;0.168478x0.222059)\n",
       "Total_Stops       AxesSubplot(0.529348,0.657941;0.168478x0.222059)\n",
       "price             AxesSubplot(0.731522,0.657941;0.168478x0.222059)\n",
       "Airlines             AxesSubplot(0.125,0.391471;0.168478x0.222059)\n",
       "Dep_hour          AxesSubplot(0.327174,0.391471;0.168478x0.222059)\n",
       "Dep_minute        AxesSubplot(0.529348,0.391471;0.168478x0.222059)\n",
       "Arrival_Hour      AxesSubplot(0.731522,0.391471;0.168478x0.222059)\n",
       "Arrival_minute          AxesSubplot(0.125,0.125;0.168478x0.222059)\n",
       "Duration_hours       AxesSubplot(0.327174,0.125;0.168478x0.222059)\n",
       "Duration_mins        AxesSubplot(0.529348,0.125;0.168478x0.222059)\n",
       "dtype: object"
      ]
     },
     "execution_count": 60,
     "metadata": {},
     "output_type": "execute_result"
    },
    {
     "data": {
      "image/png": "[encoded data removed]",
      "text/plain": [
       "<Figure size 1440x1440 with 12 Axes>"
      ]
     },
     "metadata": {
      "needs_background": "light"
     },
     "output_type": "display_data"
    }
   ],
   "source": [
    "df.plot(kind='box', subplots=True, layout=(3,4), figsize=(20,20))"
   ]
  },
  {
   "cell_type": "markdown",
   "id": "624a7ddd",
   "metadata": {},
   "source": [
    "There are no visible outliers."
   ]
  },
  {
   "cell_type": "code",
   "execution_count": 61,
   "id": "3c218539",
   "metadata": {},
   "outputs": [],
   "source": [
    "# Importing required zscore library\n",
    "\n",
    "from scipy.stats import zscore"
   ]
  },
  {
   "cell_type": "code",
   "execution_count": 62,
   "id": "a2ec458a",
   "metadata": {},
   "outputs": [],
   "source": [
    "import numpy as np"
   ]
  },
  {
   "cell_type": "code",
   "execution_count": 63,
   "id": "2ec4fa8d",
   "metadata": {},
   "outputs": [],
   "source": [
    "z=np.abs(zscore(df))"
   ]
  },
  {
   "cell_type": "code",
   "execution_count": 64,
   "id": "47376661",
   "metadata": {},
   "outputs": [],
   "source": [
    "threshold=3"
   ]
  },
  {
   "cell_type": "code",
   "execution_count": 65,
   "id": "9826231c",
   "metadata": {},
   "outputs": [],
   "source": [
    "df_new=df[(z<3).all(axis=1)] "
   ]
  },
  {
   "cell_type": "code",
   "execution_count": 66,
   "id": "798d41b3",
   "metadata": {},
   "outputs": [
    {
     "name": "stdout",
     "output_type": "stream",
     "text": [
      "Shape of original dataframe (6730, 11)\n"
     ]
    }
   ],
   "source": [
    "print('Shape of original dataframe', df.shape)"
   ]
  },
  {
   "cell_type": "code",
   "execution_count": 67,
   "id": "ded00960",
   "metadata": {},
   "outputs": [
    {
     "name": "stdout",
     "output_type": "stream",
     "text": [
      "Shape of dataframe after outliers removal (6575, 11)\n"
     ]
    }
   ],
   "source": [
    "print('Shape of dataframe after outliers removal', df_new.shape)"
   ]
  },
  {
   "cell_type": "code",
   "execution_count": 68,
   "id": "db4f31fe",
   "metadata": {},
   "outputs": [
    {
     "name": "stdout",
     "output_type": "stream",
     "text": [
      "Data loss percentage  2.3031203566121845\n"
     ]
    }
   ],
   "source": [
    "# Data loss percentage\n",
    "\n",
    "loss=((6730-6575)/6730)*100\n",
    "print('Data loss percentage ',loss)"
   ]
  },
  {
   "cell_type": "markdown",
   "id": "0277962a",
   "metadata": {},
   "source": [
    "So, we have successfully removed the outliers, with 2.3% data loss."
   ]
  },
  {
   "cell_type": "code",
   "execution_count": 69,
   "id": "ec62195a",
   "metadata": {},
   "outputs": [],
   "source": [
    "df=df_new"
   ]
  },
  {
   "cell_type": "markdown",
   "id": "181fb48c",
   "metadata": {},
   "source": [
    "# Spliting the dataset :"
   ]
  },
  {
   "cell_type": "code",
   "execution_count": 70,
   "id": "9ad71175",
   "metadata": {},
   "outputs": [],
   "source": [
    "# Data part\n",
    "\n",
    "x=df.drop(['price'],axis=1)"
   ]
  },
  {
   "cell_type": "code",
   "execution_count": 71,
   "id": "0e80a452",
   "metadata": {},
   "outputs": [
    {
     "data": {
      "text/html": [
       "<div>\n",
       "<style scoped>\n",
       "    .dataframe tbody tr th:only-of-type {\n",
       "        vertical-align: middle;\n",
       "    }\n",
       "\n",
       "    .dataframe tbody tr th {\n",
       "        vertical-align: top;\n",
       "    }\n",
       "\n",
       "    .dataframe thead th {\n",
       "        text-align: right;\n",
       "    }\n",
       "</style>\n",
       "<table border=\"1\" class=\"dataframe\">\n",
       "  <thead>\n",
       "    <tr style=\"text-align: right;\">\n",
       "      <th></th>\n",
       "      <th>Source</th>\n",
       "      <th>Destination</th>\n",
       "      <th>Total_Stops</th>\n",
       "      <th>Airlines</th>\n",
       "      <th>Dep_hour</th>\n",
       "      <th>Dep_minute</th>\n",
       "      <th>Arrival_Hour</th>\n",
       "      <th>Arrival_minute</th>\n",
       "      <th>Duration_hours</th>\n",
       "      <th>Duration_mins</th>\n",
       "    </tr>\n",
       "  </thead>\n",
       "  <tbody>\n",
       "    <tr>\n",
       "      <th>0</th>\n",
       "      <td>1</td>\n",
       "      <td>3</td>\n",
       "      <td>2</td>\n",
       "      <td>2</td>\n",
       "      <td>11</td>\n",
       "      <td>55</td>\n",
       "      <td>15</td>\n",
       "      <td>10</td>\n",
       "      <td>7</td>\n",
       "      <td>30</td>\n",
       "    </tr>\n",
       "    <tr>\n",
       "      <th>1</th>\n",
       "      <td>1</td>\n",
       "      <td>3</td>\n",
       "      <td>2</td>\n",
       "      <td>2</td>\n",
       "      <td>11</td>\n",
       "      <td>55</td>\n",
       "      <td>16</td>\n",
       "      <td>20</td>\n",
       "      <td>8</td>\n",
       "      <td>55</td>\n",
       "    </tr>\n",
       "    <tr>\n",
       "      <th>2</th>\n",
       "      <td>1</td>\n",
       "      <td>3</td>\n",
       "      <td>2</td>\n",
       "      <td>2</td>\n",
       "      <td>14</td>\n",
       "      <td>0</td>\n",
       "      <td>19</td>\n",
       "      <td>12</td>\n",
       "      <td>9</td>\n",
       "      <td>30</td>\n",
       "    </tr>\n",
       "    <tr>\n",
       "      <th>3</th>\n",
       "      <td>1</td>\n",
       "      <td>3</td>\n",
       "      <td>2</td>\n",
       "      <td>2</td>\n",
       "      <td>11</td>\n",
       "      <td>55</td>\n",
       "      <td>19</td>\n",
       "      <td>12</td>\n",
       "      <td>11</td>\n",
       "      <td>35</td>\n",
       "    </tr>\n",
       "    <tr>\n",
       "      <th>4</th>\n",
       "      <td>1</td>\n",
       "      <td>3</td>\n",
       "      <td>1</td>\n",
       "      <td>3</td>\n",
       "      <td>11</td>\n",
       "      <td>15</td>\n",
       "      <td>12</td>\n",
       "      <td>6</td>\n",
       "      <td>5</td>\n",
       "      <td>0</td>\n",
       "    </tr>\n",
       "  </tbody>\n",
       "</table>\n",
       "</div>"
      ],
      "text/plain": [
       "   Source  Destination  Total_Stops  Airlines  Dep_hour  Dep_minute  \\\n",
       "0       1            3            2         2        11          55   \n",
       "1       1            3            2         2        11          55   \n",
       "2       1            3            2         2        14           0   \n",
       "3       1            3            2         2        11          55   \n",
       "4       1            3            1         3        11          15   \n",
       "\n",
       "   Arrival_Hour  Arrival_minute  Duration_hours  Duration_mins  \n",
       "0            15              10               7             30  \n",
       "1            16              20               8             55  \n",
       "2            19              12               9             30  \n",
       "3            19              12              11             35  \n",
       "4            12               6               5              0  "
      ]
     },
     "execution_count": 71,
     "metadata": {},
     "output_type": "execute_result"
    }
   ],
   "source": [
    "x.head()"
   ]
  },
  {
   "cell_type": "code",
   "execution_count": 72,
   "id": "9483b284",
   "metadata": {},
   "outputs": [],
   "source": [
    "# Target\n",
    "\n",
    "y=df.price"
   ]
  },
  {
   "cell_type": "code",
   "execution_count": 73,
   "id": "d279a534",
   "metadata": {},
   "outputs": [
    {
     "data": {
      "text/plain": [
       "0    7365\n",
       "1    7365\n",
       "2    7365\n",
       "3    7365\n",
       "4    7418\n",
       "Name: price, dtype: int64"
      ]
     },
     "execution_count": 73,
     "metadata": {},
     "output_type": "execute_result"
    }
   ],
   "source": [
    "y.head()"
   ]
  },
  {
   "cell_type": "markdown",
   "id": "dfc06457",
   "metadata": {},
   "source": [
    "# Feature Scaling :\n",
    "To transform the dataset into same format, so that we have a uniform dataset."
   ]
  },
  {
   "cell_type": "code",
   "execution_count": 74,
   "id": "dc5a7d7d",
   "metadata": {},
   "outputs": [],
   "source": [
    "# Importing required scaler library\n",
    "\n",
    "from sklearn.preprocessing import StandardScaler"
   ]
  },
  {
   "cell_type": "code",
   "execution_count": 75,
   "id": "9470da00",
   "metadata": {},
   "outputs": [
    {
     "data": {
      "text/html": [
       "<div>\n",
       "<style scoped>\n",
       "    .dataframe tbody tr th:only-of-type {\n",
       "        vertical-align: middle;\n",
       "    }\n",
       "\n",
       "    .dataframe tbody tr th {\n",
       "        vertical-align: top;\n",
       "    }\n",
       "\n",
       "    .dataframe thead th {\n",
       "        text-align: right;\n",
       "    }\n",
       "</style>\n",
       "<table border=\"1\" class=\"dataframe\">\n",
       "  <thead>\n",
       "    <tr style=\"text-align: right;\">\n",
       "      <th></th>\n",
       "      <th>Source</th>\n",
       "      <th>Destination</th>\n",
       "      <th>Total_Stops</th>\n",
       "      <th>Airlines</th>\n",
       "      <th>Dep_hour</th>\n",
       "      <th>Dep_minute</th>\n",
       "      <th>Arrival_Hour</th>\n",
       "      <th>Arrival_minute</th>\n",
       "      <th>Duration_hours</th>\n",
       "      <th>Duration_mins</th>\n",
       "    </tr>\n",
       "  </thead>\n",
       "  <tbody>\n",
       "    <tr>\n",
       "      <th>0</th>\n",
       "      <td>-0.311116</td>\n",
       "      <td>1.648781</td>\n",
       "      <td>1.816644</td>\n",
       "      <td>0.072068</td>\n",
       "      <td>-0.414212</td>\n",
       "      <td>1.382174</td>\n",
       "      <td>1.007101</td>\n",
       "      <td>-0.343449</td>\n",
       "      <td>-0.869654</td>\n",
       "      <td>0.322089</td>\n",
       "    </tr>\n",
       "    <tr>\n",
       "      <th>1</th>\n",
       "      <td>-0.311116</td>\n",
       "      <td>1.648781</td>\n",
       "      <td>1.816644</td>\n",
       "      <td>0.072068</td>\n",
       "      <td>-0.414212</td>\n",
       "      <td>1.382174</td>\n",
       "      <td>1.201703</td>\n",
       "      <td>1.159397</td>\n",
       "      <td>-0.738823</td>\n",
       "      <td>1.755900</td>\n",
       "    </tr>\n",
       "    <tr>\n",
       "      <th>2</th>\n",
       "      <td>-0.311116</td>\n",
       "      <td>1.648781</td>\n",
       "      <td>1.816644</td>\n",
       "      <td>0.072068</td>\n",
       "      <td>0.159467</td>\n",
       "      <td>-1.681815</td>\n",
       "      <td>1.785506</td>\n",
       "      <td>-0.042880</td>\n",
       "      <td>-0.607992</td>\n",
       "      <td>0.322089</td>\n",
       "    </tr>\n",
       "    <tr>\n",
       "      <th>3</th>\n",
       "      <td>-0.311116</td>\n",
       "      <td>1.648781</td>\n",
       "      <td>1.816644</td>\n",
       "      <td>0.072068</td>\n",
       "      <td>-0.414212</td>\n",
       "      <td>1.382174</td>\n",
       "      <td>1.785506</td>\n",
       "      <td>-0.042880</td>\n",
       "      <td>-0.346330</td>\n",
       "      <td>0.608852</td>\n",
       "    </tr>\n",
       "    <tr>\n",
       "      <th>4</th>\n",
       "      <td>-0.311116</td>\n",
       "      <td>1.648781</td>\n",
       "      <td>-0.550466</td>\n",
       "      <td>0.719404</td>\n",
       "      <td>-0.414212</td>\n",
       "      <td>-0.846182</td>\n",
       "      <td>0.423298</td>\n",
       "      <td>-0.944587</td>\n",
       "      <td>-1.131317</td>\n",
       "      <td>-1.398483</td>\n",
       "    </tr>\n",
       "    <tr>\n",
       "      <th>5</th>\n",
       "      <td>-0.311116</td>\n",
       "      <td>1.648781</td>\n",
       "      <td>-0.550466</td>\n",
       "      <td>0.719404</td>\n",
       "      <td>0.159467</td>\n",
       "      <td>0.267996</td>\n",
       "      <td>1.396304</td>\n",
       "      <td>0.558258</td>\n",
       "      <td>-0.869654</td>\n",
       "      <td>-1.111721</td>\n",
       "    </tr>\n",
       "    <tr>\n",
       "      <th>6</th>\n",
       "      <td>-0.311116</td>\n",
       "      <td>1.648781</td>\n",
       "      <td>-0.550466</td>\n",
       "      <td>0.719404</td>\n",
       "      <td>0.159467</td>\n",
       "      <td>0.267996</td>\n",
       "      <td>-1.133511</td>\n",
       "      <td>0.708543</td>\n",
       "      <td>0.569489</td>\n",
       "      <td>-1.111721</td>\n",
       "    </tr>\n",
       "    <tr>\n",
       "      <th>7</th>\n",
       "      <td>-0.311116</td>\n",
       "      <td>1.648781</td>\n",
       "      <td>-0.550466</td>\n",
       "      <td>0.719404</td>\n",
       "      <td>0.350693</td>\n",
       "      <td>-0.567638</td>\n",
       "      <td>0.423298</td>\n",
       "      <td>-0.794302</td>\n",
       "      <td>1.354476</td>\n",
       "      <td>1.755900</td>\n",
       "    </tr>\n",
       "    <tr>\n",
       "      <th>8</th>\n",
       "      <td>-0.311116</td>\n",
       "      <td>1.648781</td>\n",
       "      <td>-0.550466</td>\n",
       "      <td>0.072068</td>\n",
       "      <td>0.541919</td>\n",
       "      <td>-0.010549</td>\n",
       "      <td>1.785506</td>\n",
       "      <td>-0.042880</td>\n",
       "      <td>-0.869654</td>\n",
       "      <td>-1.398483</td>\n",
       "    </tr>\n",
       "    <tr>\n",
       "      <th>9</th>\n",
       "      <td>-0.311116</td>\n",
       "      <td>1.648781</td>\n",
       "      <td>-0.550466</td>\n",
       "      <td>1.366739</td>\n",
       "      <td>0.350693</td>\n",
       "      <td>0.267996</td>\n",
       "      <td>1.201703</td>\n",
       "      <td>-1.545725</td>\n",
       "      <td>-1.262148</td>\n",
       "      <td>0.322089</td>\n",
       "    </tr>\n",
       "  </tbody>\n",
       "</table>\n",
       "</div>"
      ],
      "text/plain": [
       "     Source  Destination  Total_Stops  Airlines  Dep_hour  Dep_minute  \\\n",
       "0 -0.311116     1.648781     1.816644  0.072068 -0.414212    1.382174   \n",
       "1 -0.311116     1.648781     1.816644  0.072068 -0.414212    1.382174   \n",
       "2 -0.311116     1.648781     1.816644  0.072068  0.159467   -1.681815   \n",
       "3 -0.311116     1.648781     1.816644  0.072068 -0.414212    1.382174   \n",
       "4 -0.311116     1.648781    -0.550466  0.719404 -0.414212   -0.846182   \n",
       "5 -0.311116     1.648781    -0.550466  0.719404  0.159467    0.267996   \n",
       "6 -0.311116     1.648781    -0.550466  0.719404  0.159467    0.267996   \n",
       "7 -0.311116     1.648781    -0.550466  0.719404  0.350693   -0.567638   \n",
       "8 -0.311116     1.648781    -0.550466  0.072068  0.541919   -0.010549   \n",
       "9 -0.311116     1.648781    -0.550466  1.366739  0.350693    0.267996   \n",
       "\n",
       "   Arrival_Hour  Arrival_minute  Duration_hours  Duration_mins  \n",
       "0      1.007101       -0.343449       -0.869654       0.322089  \n",
       "1      1.201703        1.159397       -0.738823       1.755900  \n",
       "2      1.785506       -0.042880       -0.607992       0.322089  \n",
       "3      1.785506       -0.042880       -0.346330       0.608852  \n",
       "4      0.423298       -0.944587       -1.131317      -1.398483  \n",
       "5      1.396304        0.558258       -0.869654      -1.111721  \n",
       "6     -1.133511        0.708543        0.569489      -1.111721  \n",
       "7      0.423298       -0.794302        1.354476       1.755900  \n",
       "8      1.785506       -0.042880       -0.869654      -1.398483  \n",
       "9      1.201703       -1.545725       -1.262148       0.322089  "
      ]
     },
     "execution_count": 75,
     "metadata": {},
     "output_type": "execute_result"
    }
   ],
   "source": [
    "scale=StandardScaler()\n",
    "x=pd.DataFrame(scale.fit_transform(x), columns=x.columns)\n",
    "x.head(10)"
   ]
  },
  {
   "cell_type": "markdown",
   "id": "a40020f1",
   "metadata": {},
   "source": [
    "# Power Transformation :\n",
    "I will use Yeo-Johnson to transform this continuous dataset so that the resulting features looks more normally distributed. And also reduce skewness and outliers."
   ]
  },
  {
   "cell_type": "code",
   "execution_count": 76,
   "id": "429112a9",
   "metadata": {},
   "outputs": [],
   "source": [
    "# First importing the required library for power transformation\n",
    "\n",
    "from sklearn.preprocessing import PowerTransformer"
   ]
  },
  {
   "cell_type": "code",
   "execution_count": 77,
   "id": "182ec769",
   "metadata": {},
   "outputs": [
    {
     "data": {
      "text/html": [
       "<div>\n",
       "<style scoped>\n",
       "    .dataframe tbody tr th:only-of-type {\n",
       "        vertical-align: middle;\n",
       "    }\n",
       "\n",
       "    .dataframe tbody tr th {\n",
       "        vertical-align: top;\n",
       "    }\n",
       "\n",
       "    .dataframe thead th {\n",
       "        text-align: right;\n",
       "    }\n",
       "</style>\n",
       "<table border=\"1\" class=\"dataframe\">\n",
       "  <thead>\n",
       "    <tr style=\"text-align: right;\">\n",
       "      <th></th>\n",
       "      <th>Source</th>\n",
       "      <th>Destination</th>\n",
       "      <th>Total_Stops</th>\n",
       "      <th>Airlines</th>\n",
       "      <th>Dep_hour</th>\n",
       "      <th>Dep_minute</th>\n",
       "      <th>Arrival_Hour</th>\n",
       "      <th>Arrival_minute</th>\n",
       "      <th>Duration_hours</th>\n",
       "      <th>Duration_mins</th>\n",
       "    </tr>\n",
       "  </thead>\n",
       "  <tbody>\n",
       "    <tr>\n",
       "      <th>0</th>\n",
       "      <td>-0.247773</td>\n",
       "      <td>1.60079</td>\n",
       "      <td>1.816644</td>\n",
       "      <td>0.117048</td>\n",
       "      <td>-0.430304</td>\n",
       "      <td>1.472371</td>\n",
       "      <td>1.007003</td>\n",
       "      <td>-0.438610</td>\n",
       "      <td>-0.868574</td>\n",
       "      <td>0.389225</td>\n",
       "    </tr>\n",
       "    <tr>\n",
       "      <th>1</th>\n",
       "      <td>-0.247773</td>\n",
       "      <td>1.60079</td>\n",
       "      <td>1.816644</td>\n",
       "      <td>0.117048</td>\n",
       "      <td>-0.430304</td>\n",
       "      <td>1.472371</td>\n",
       "      <td>1.201137</td>\n",
       "      <td>1.225319</td>\n",
       "      <td>-0.714093</td>\n",
       "      <td>1.641682</td>\n",
       "    </tr>\n",
       "    <tr>\n",
       "      <th>2</th>\n",
       "      <td>-0.247773</td>\n",
       "      <td>1.60079</td>\n",
       "      <td>1.816644</td>\n",
       "      <td>0.117048</td>\n",
       "      <td>0.140007</td>\n",
       "      <td>-1.577296</td>\n",
       "      <td>1.783221</td>\n",
       "      <td>-0.149649</td>\n",
       "      <td>-0.562640</td>\n",
       "      <td>0.389225</td>\n",
       "    </tr>\n",
       "    <tr>\n",
       "      <th>3</th>\n",
       "      <td>-0.247773</td>\n",
       "      <td>1.60079</td>\n",
       "      <td>1.816644</td>\n",
       "      <td>0.117048</td>\n",
       "      <td>-0.430304</td>\n",
       "      <td>1.472371</td>\n",
       "      <td>1.783221</td>\n",
       "      <td>-0.149649</td>\n",
       "      <td>-0.269562</td>\n",
       "      <td>0.655852</td>\n",
       "    </tr>\n",
       "    <tr>\n",
       "      <th>4</th>\n",
       "      <td>-0.247773</td>\n",
       "      <td>1.60079</td>\n",
       "      <td>-0.550466</td>\n",
       "      <td>0.740507</td>\n",
       "      <td>-0.430304</td>\n",
       "      <td>-0.871504</td>\n",
       "      <td>0.424210</td>\n",
       "      <td>-0.965805</td>\n",
       "      <td>-1.186003</td>\n",
       "      <td>-1.482834</td>\n",
       "    </tr>\n",
       "  </tbody>\n",
       "</table>\n",
       "</div>"
      ],
      "text/plain": [
       "     Source  Destination  Total_Stops  Airlines  Dep_hour  Dep_minute  \\\n",
       "0 -0.247773      1.60079     1.816644  0.117048 -0.430304    1.472371   \n",
       "1 -0.247773      1.60079     1.816644  0.117048 -0.430304    1.472371   \n",
       "2 -0.247773      1.60079     1.816644  0.117048  0.140007   -1.577296   \n",
       "3 -0.247773      1.60079     1.816644  0.117048 -0.430304    1.472371   \n",
       "4 -0.247773      1.60079    -0.550466  0.740507 -0.430304   -0.871504   \n",
       "\n",
       "   Arrival_Hour  Arrival_minute  Duration_hours  Duration_mins  \n",
       "0      1.007003       -0.438610       -0.868574       0.389225  \n",
       "1      1.201137        1.225319       -0.714093       1.641682  \n",
       "2      1.783221       -0.149649       -0.562640       0.389225  \n",
       "3      1.783221       -0.149649       -0.269562       0.655852  \n",
       "4      0.424210       -0.965805       -1.186003      -1.482834  "
      ]
     },
     "execution_count": 77,
     "metadata": {},
     "output_type": "execute_result"
    }
   ],
   "source": [
    "power=PowerTransformer(method='yeo-johnson')\n",
    "x=pd.DataFrame(power.fit_transform(x), columns=x.columns)\n",
    "x.head()"
   ]
  },
  {
   "cell_type": "markdown",
   "id": "1a9fadf1",
   "metadata": {},
   "source": [
    "# Variance Inflation Factor :\n",
    "It helps us to eliminate multi co-linearity."
   ]
  },
  {
   "cell_type": "code",
   "execution_count": 78,
   "id": "b92891bf",
   "metadata": {},
   "outputs": [],
   "source": [
    "# Importing required library for variance inflation factor.\n",
    "\n",
    "from statsmodels.stats.outliers_influence import variance_inflation_factor"
   ]
  },
  {
   "cell_type": "code",
   "execution_count": 79,
   "id": "f078f102",
   "metadata": {},
   "outputs": [],
   "source": [
    "def vif_calc():\n",
    "    vif=pd.DataFrame()\n",
    "    vif['VIF Factor']=[variance_inflation_factor(x.values,i) for i in range(x.shape[1])]\n",
    "    vif['Features']=x.columns\n",
    "    print(vif)"
   ]
  },
  {
   "cell_type": "code",
   "execution_count": 80,
   "id": "6f54a78e",
   "metadata": {},
   "outputs": [
    {
     "name": "stdout",
     "output_type": "stream",
     "text": [
      "   VIF Factor        Features\n",
      "0    1.273930          Source\n",
      "1    1.387935     Destination\n",
      "2    1.150964     Total_Stops\n",
      "3    1.537787        Airlines\n",
      "4    1.056959        Dep_hour\n",
      "5    1.342766      Dep_minute\n",
      "6    1.219329    Arrival_Hour\n",
      "7    1.524677  Arrival_minute\n",
      "8    1.243404  Duration_hours\n",
      "9    1.077004   Duration_mins\n"
     ]
    }
   ],
   "source": [
    "vif_calc()"
   ]
  },
  {
   "cell_type": "markdown",
   "id": "f2066c7b",
   "metadata": {},
   "source": [
    "# Machine Learning Models :\n",
    "Here we have a linear case, hence we'll go with Linear Regression and various other regression models."
   ]
  },
  {
   "cell_type": "code",
   "execution_count": 81,
   "id": "53364950",
   "metadata": {},
   "outputs": [],
   "source": [
    "# Importing the necessary libraries :\n",
    "from sklearn.model_selection import train_test_split\n",
    "from sklearn.model_selection import cross_val_score\n",
    "from sklearn.linear_model import LinearRegression, Ridge, Lasso, ElasticNet\n",
    "from sklearn.svm import SVR\n",
    "from sklearn.tree import DecisionTreeRegressor\n",
    "from sklearn.ensemble import RandomForestRegressor\n",
    "from sklearn.neighbors import KNeighborsRegressor\n",
    "from sklearn.ensemble import AdaBoostRegressor\n",
    "from sklearn.ensemble import ExtraTreesRegressor\n",
    "from sklearn.ensemble import GradientBoostingRegressor\n",
    "from sklearn.metrics import r2_score\n",
    "from sklearn.metrics import mean_squared_error\n",
    "from sklearn.model_selection import GridSearchCV"
   ]
  },
  {
   "cell_type": "markdown",
   "id": "11a3535d",
   "metadata": {},
   "source": [
    "# Finding best random state :"
   ]
  },
  {
   "cell_type": "code",
   "execution_count": 82,
   "id": "90649f2e",
   "metadata": {},
   "outputs": [
    {
     "name": "stdout",
     "output_type": "stream",
     "text": [
      "Highest r2 score is 0.5932054630740843 on random state 419\n"
     ]
    }
   ],
   "source": [
    "score=0\n",
    "random_state=0\n",
    "\n",
    "for i in range(1, 1000):\n",
    "    x_train,x_test,y_train,y_test=train_test_split(x, y,test_size=0.20,random_state=i)\n",
    "    lr=LinearRegression()\n",
    "    lr.fit(x_train, y_train)\n",
    "    pred=lr.predict(x_test)\n",
    "    r2=r2_score(y_test,pred)\n",
    "    \n",
    "    if r2>score:\n",
    "        score=r2\n",
    "        random_state=i\n",
    "\n",
    "print(\"Highest r2 score is\", score,\"on random state\", random_state)"
   ]
  },
  {
   "cell_type": "markdown",
   "id": "6c2c5fc3",
   "metadata": {},
   "source": [
    "# Required Evaluation Metrices :"
   ]
  },
  {
   "cell_type": "code",
   "execution_count": 83,
   "id": "97e66b75",
   "metadata": {},
   "outputs": [],
   "source": [
    "# Spliting the dataset\n",
    "def reg(model, x, y):\n",
    "    x_train,x_test,y_train,y_test=train_test_split(x,y,test_size=0.20,random_state=517)\n",
    "# Here 20% will be used for testing purpose and rest 80% for training purpose.\n",
    "    \n",
    "    # Training the model\n",
    "    model.fit(x_train, y_train)\n",
    "    \n",
    "    # Predicting x_test\n",
    "    pred=model.predict(x_test)\n",
    "    \n",
    "    # Mean square error should be low always\n",
    "    mse=mean_squared_error(y_test,pred,squared=False)\n",
    "    print(\"Mean Square Error Score is:\", mse)\n",
    "    \n",
    "    # r2 score\n",
    "    r2=r2_score(y_test,pred,multioutput='variance_weighted')*100\n",
    "    print(\"r2 Score is:\", r2)\n",
    "    \n",
    "    # Cross Validation Score\n",
    "    cv=(cross_val_score(model, x, y, cv=5).mean())*100\n",
    "    print(\"Cross Validation Score:\", cv)\n",
    "    \n",
    "     \n",
    "    # Difference between r2 score and cv score\n",
    "    diff = r2-cv\n",
    "    print(\"Difference between r2 Score and Cross Validation Score is\", diff)"
   ]
  },
  {
   "cell_type": "markdown",
   "id": "d22c5242",
   "metadata": {},
   "source": [
    "Now we can call all the models one by one using this function :"
   ]
  },
  {
   "cell_type": "code",
   "execution_count": 84,
   "id": "31820402",
   "metadata": {},
   "outputs": [
    {
     "name": "stdout",
     "output_type": "stream",
     "text": [
      "Mean Square Error Score is: 1636.2886042734997\n",
      "r2 Score is: 56.95871261715937\n",
      "Cross Validation Score: -0.9418756189332544\n",
      "Difference between r2 Score and Cross Validation Score is 57.900588236092624\n"
     ]
    }
   ],
   "source": [
    "# Linear Regression\n",
    "\n",
    "model=LinearRegression()\n",
    "reg(model,x,y)"
   ]
  },
  {
   "cell_type": "code",
   "execution_count": 85,
   "id": "6dbf4ef5",
   "metadata": {},
   "outputs": [
    {
     "name": "stdout",
     "output_type": "stream",
     "text": [
      "Mean Square Error Score is: 1636.3621044632262\n",
      "r2 Score is: 56.95484580071661\n",
      "Cross Validation Score: -0.7555687525192001\n",
      "Difference between r2 Score and Cross Validation Score is 57.710414553235815\n"
     ]
    }
   ],
   "source": [
    "# Ridge Regression\n",
    "\n",
    "model=Ridge(alpha=0.001, normalize=True)\n",
    "reg(model,x,y)"
   ]
  },
  {
   "cell_type": "code",
   "execution_count": 86,
   "id": "e7113441",
   "metadata": {},
   "outputs": [
    {
     "name": "stdout",
     "output_type": "stream",
     "text": [
      "Mean Square Error Score is: 1636.2968600723143\n",
      "r2 Score is: 56.95827829144831\n",
      "Cross Validation Score: -0.9226221635062615\n",
      "Difference between r2 Score and Cross Validation Score is 57.88090045495457\n"
     ]
    }
   ],
   "source": [
    "# Lasso Regression\n",
    "\n",
    "model=Lasso(alpha=0.001, normalize=True)\n",
    "reg(model,x,y)"
   ]
  },
  {
   "cell_type": "code",
   "execution_count": 87,
   "id": "f5845d31",
   "metadata": {},
   "outputs": [
    {
     "name": "stdout",
     "output_type": "stream",
     "text": [
      "Mean Square Error Score is: 1636.2922471532138\n",
      "r2 Score is: 56.95852097076302\n",
      "Cross Validation Score: -0.9314255561580987\n",
      "Difference between r2 Score and Cross Validation Score is 57.889946526921115\n"
     ]
    }
   ],
   "source": [
    "# ElasticNet\n",
    "\n",
    "model=ElasticNet (alpha=0.0001)\n",
    "reg(model,x,y)"
   ]
  },
  {
   "cell_type": "code",
   "execution_count": 88,
   "id": "372b95ac",
   "metadata": {},
   "outputs": [
    {
     "name": "stdout",
     "output_type": "stream",
     "text": [
      "Mean Square Error Score is: 2429.150735587548\n",
      "r2 Score is: 5.141911073980065\n",
      "Cross Validation Score: -3.8933783015058143\n",
      "Difference between r2 Score and Cross Validation Score is 9.03528937548588\n"
     ]
    }
   ],
   "source": [
    "# Support Vector Regression (poly)\n",
    "\n",
    "model=SVR(kernel='poly', gamma='auto')\n",
    "reg(model,x,y)"
   ]
  },
  {
   "cell_type": "code",
   "execution_count": 89,
   "id": "653bc530",
   "metadata": {},
   "outputs": [
    {
     "name": "stdout",
     "output_type": "stream",
     "text": [
      "Mean Square Error Score is: 1835.6920611562934\n",
      "r2 Score is: 45.829218551936066\n",
      "Cross Validation Score: 3.2919261426986512\n",
      "Difference between r2 Score and Cross Validation Score is 42.537292409237416\n"
     ]
    }
   ],
   "source": [
    "# Support Vector Regression (linear)\n",
    "\n",
    "model=SVR(kernel='linear', gamma='auto')\n",
    "reg(model,x,y)"
   ]
  },
  {
   "cell_type": "code",
   "execution_count": 90,
   "id": "e235d622",
   "metadata": {},
   "outputs": [
    {
     "name": "stdout",
     "output_type": "stream",
     "text": [
      "Mean Square Error Score is: 2464.799751334559\n",
      "r2 Score is: 2.3373005713200223\n",
      "Cross Validation Score: -4.89202951208824\n",
      "Difference between r2 Score and Cross Validation Score is 7.2293300834082626\n"
     ]
    }
   ],
   "source": [
    "# Support Vector Regression (rbf)\n",
    "\n",
    "model=SVR(kernel='rbf', gamma='auto')\n",
    "reg(model,x,y)"
   ]
  },
  {
   "cell_type": "code",
   "execution_count": 91,
   "id": "ec77156c",
   "metadata": {},
   "outputs": [
    {
     "name": "stdout",
     "output_type": "stream",
     "text": [
      "Mean Square Error Score is: 0.0\n",
      "r2 Score is: 100.0\n",
      "Cross Validation Score: 49.66496562887198\n",
      "Difference between r2 Score and Cross Validation Score is 50.33503437112802\n"
     ]
    }
   ],
   "source": [
    "# Decision Tree Regressor\n",
    "\n",
    "model=DecisionTreeRegressor(criterion=\"poisson\", random_state=111)\n",
    "reg(model,x,y)"
   ]
  },
  {
   "cell_type": "code",
   "execution_count": 92,
   "id": "4a46bb1f",
   "metadata": {},
   "outputs": [
    {
     "name": "stdout",
     "output_type": "stream",
     "text": [
      "Mean Square Error Score is: 0.0\n",
      "r2 Score is: 100.0\n",
      "Cross Validation Score: 80.11512882810926\n",
      "Difference between r2 Score and Cross Validation Score is 19.884871171890737\n"
     ]
    }
   ],
   "source": [
    "# Random Forest Regressor\n",
    "\n",
    "model=RandomForestRegressor(n_estimators=10,random_state=40)\n",
    "reg(model,x,y)"
   ]
  },
  {
   "cell_type": "code",
   "execution_count": 93,
   "id": "3934cd5b",
   "metadata": {},
   "outputs": [
    {
     "name": "stdout",
     "output_type": "stream",
     "text": [
      "Mean Square Error Score is: 0.0\n",
      "r2 Score is: 100.0\n",
      "Cross Validation Score: 80.11512882810926\n",
      "Difference between r2 Score and Cross Validation Score is 19.884871171890737\n"
     ]
    }
   ],
   "source": [
    "# K Neighbors Regressor\n",
    "\n",
    "KNeighborsRegressor(n_neighbors=2)\n",
    "reg(model,x,y)"
   ]
  },
  {
   "cell_type": "code",
   "execution_count": 94,
   "id": "c7c3d178",
   "metadata": {},
   "outputs": [
    {
     "name": "stdout",
     "output_type": "stream",
     "text": [
      "Mean Square Error Score is: 176.32125643789598\n",
      "r2 Score is: 99.5002247041042\n",
      "Cross Validation Score: 81.12691240894716\n",
      "Difference between r2 Score and Cross Validation Score is 18.373312295157035\n"
     ]
    }
   ],
   "source": [
    "# Gradient Boosting Regressor\n",
    "\n",
    "model=GradientBoostingRegressor(n_estimators=120)\n",
    "reg(model,x,y)"
   ]
  },
  {
   "cell_type": "code",
   "execution_count": 95,
   "id": "f24e718e",
   "metadata": {},
   "outputs": [
    {
     "name": "stdout",
     "output_type": "stream",
     "text": [
      "Mean Square Error Score is: 732.1445179977069\n",
      "r2 Score is: 91.38294091167255\n",
      "Cross Validation Score: 68.40658224262931\n",
      "Difference between r2 Score and Cross Validation Score is 22.976358669043236\n"
     ]
    }
   ],
   "source": [
    "# Ada Boost Regressor\n",
    "\n",
    "model=AdaBoostRegressor(n_estimators=100,learning_rate=1.0,random_state=40)\n",
    "reg(model,x,y)"
   ]
  },
  {
   "cell_type": "code",
   "execution_count": 96,
   "id": "34304ca1",
   "metadata": {},
   "outputs": [
    {
     "name": "stdout",
     "output_type": "stream",
     "text": [
      "Mean Square Error Score is: 0.0\n",
      "r2 Score is: 100.0\n",
      "Cross Validation Score: 76.6201296058886\n",
      "Difference between r2 Score and Cross Validation Score is 23.379870394111407\n"
     ]
    }
   ],
   "source": [
    "# Extra Trees Regressor\n",
    "\n",
    "model=ExtraTreesRegressor(n_estimators=300)\n",
    "reg(model,x,y)"
   ]
  },
  {
   "cell_type": "markdown",
   "id": "6a1e2acf",
   "metadata": {},
   "source": [
    "After finding all the scores of various models, we found that Gradient Boosting Regressor model gives the best r2 score. Hence we choose this model and proceed further with the process."
   ]
  },
  {
   "cell_type": "markdown",
   "id": "08f73a48",
   "metadata": {},
   "source": [
    "# Hyper Parameter Tuning :\n",
    "Applying hyper parameter tuning using Grid Search CV method, to find the best parameters of Gradient Boosting Regressor Model"
   ]
  },
  {
   "cell_type": "code",
   "execution_count": 97,
   "id": "2eaa825a",
   "metadata": {},
   "outputs": [
    {
     "data": {
      "text/plain": [
       "GradientBoostingRegressor()"
      ]
     },
     "execution_count": 97,
     "metadata": {},
     "output_type": "execute_result"
    }
   ],
   "source": [
    "GradientBoostingRegressor(loss='squared_error',\n",
    "    learning_rate=0.1,\n",
    "    n_estimators=100,\n",
    "    subsample=1.0,\n",
    "    criterion='friedman_mse',\n",
    "    min_samples_split=2,\n",
    "    min_samples_leaf=1,\n",
    "    min_weight_fraction_leaf=0.0,\n",
    "    max_depth=3,\n",
    "    min_impurity_decrease=0.0,\n",
    "    init=None,\n",
    "    random_state=None,\n",
    "    max_features=None,\n",
    "    alpha=0.9,\n",
    "    verbose=0,\n",
    "    max_leaf_nodes=None,\n",
    "    warm_start=False,\n",
    "    validation_fraction=0.1,\n",
    "    n_iter_no_change=None,\n",
    "    tol=0.0001,\n",
    "    ccp_alpha=0.0)"
   ]
  },
  {
   "cell_type": "markdown",
   "id": "e772e1d9",
   "metadata": {},
   "source": [
    "These are the various parameters for GradientBoostingRegressor, which i found by clicking shift+tab buttons inside the function.\n",
    "\n",
    "First we have to create a dictionary of these parameters so that it can be passsed to the grid search function."
   ]
  },
  {
   "cell_type": "code",
   "execution_count": 101,
   "id": "5f1cf5d4",
   "metadata": {},
   "outputs": [],
   "source": [
    "params={'loss' : ['squared_error', 'absolute_error', 'huber', 'quantile'],\n",
    "        'criterion' : ['friedman_mse', 'squared_error', 'mse', 'mae'],\n",
    "        'max_features' : ['auto', 'sqrt', 'log2']}"
   ]
  },
  {
   "cell_type": "code",
   "execution_count": 102,
   "id": "ac0db292",
   "metadata": {},
   "outputs": [],
   "source": [
    "grid=GridSearchCV(GradientBoostingRegressor(), params, cv=5)"
   ]
  },
  {
   "cell_type": "code",
   "execution_count": 103,
   "id": "cd6591f0",
   "metadata": {},
   "outputs": [
    {
     "data": {
      "text/plain": [
       "GridSearchCV(cv=5, estimator=GradientBoostingRegressor(),\n",
       "             param_grid={'criterion': ['friedman_mse', 'squared_error', 'mse',\n",
       "                                       'mae'],\n",
       "                         'loss': ['squared_error', 'absolute_error', 'huber',\n",
       "                                  'quantile'],\n",
       "                         'max_features': ['auto', 'sqrt', 'log2']})"
      ]
     },
     "execution_count": 103,
     "metadata": {},
     "output_type": "execute_result"
    }
   ],
   "source": [
    "grid.fit(x_train,y_train)"
   ]
  },
  {
   "cell_type": "code",
   "execution_count": 104,
   "id": "c3c5a043",
   "metadata": {},
   "outputs": [
    {
     "data": {
      "text/plain": [
       "{'criterion': 'friedman_mse', 'loss': 'squared_error', 'max_features': 'auto'}"
      ]
     },
     "execution_count": 104,
     "metadata": {},
     "output_type": "execute_result"
    }
   ],
   "source": [
    "grid.best_params_"
   ]
  },
  {
   "cell_type": "markdown",
   "id": "4ad4b894",
   "metadata": {},
   "source": [
    "So here we have found the best parameters for our model, and now we can finally train our model."
   ]
  },
  {
   "cell_type": "code",
   "execution_count": 105,
   "id": "be98dc22",
   "metadata": {},
   "outputs": [],
   "source": [
    "GBR=GradientBoostingRegressor(criterion='friedman_mse', max_features='auto', n_estimators=300, loss='squared_error')"
   ]
  },
  {
   "cell_type": "code",
   "execution_count": 106,
   "id": "d799f20f",
   "metadata": {},
   "outputs": [
    {
     "name": "stdout",
     "output_type": "stream",
     "text": [
      "r2 score for the final model :  99.95537170309332\n"
     ]
    }
   ],
   "source": [
    "GBR.fit(x_train,y_train)\n",
    "pred=GBR.predict(x_test)\n",
    "r2=r2_score(y_test, pred)*100\n",
    "print('r2 score for the final model : ',r2)"
   ]
  },
  {
   "cell_type": "markdown",
   "id": "64e447f4",
   "metadata": {},
   "source": [
    "# Saving the best model :"
   ]
  },
  {
   "cell_type": "code",
   "execution_count": 107,
   "id": "1df91301",
   "metadata": {},
   "outputs": [],
   "source": [
    "import pickle\n",
    "filename='Flight.pkl'\n",
    "pickle.dump(GBR,open(filename,'wb'))"
   ]
  },
  {
   "cell_type": "markdown",
   "id": "63f3050f",
   "metadata": {},
   "source": [
    "# Predictions :"
   ]
  },
  {
   "cell_type": "code",
   "execution_count": 108,
   "id": "3354529c",
   "metadata": {},
   "outputs": [
    {
     "data": {
      "text/plain": [
       "array([11845.78114136,  9442.20972026, 12096.11478834, ...,\n",
       "        8412.16777792, 10211.28693392, 11091.11664465])"
      ]
     },
     "execution_count": 108,
     "metadata": {},
     "output_type": "execute_result"
    }
   ],
   "source": [
    "prediction = GBR.predict(x_test)\n",
    "prediction"
   ]
  },
  {
   "cell_type": "code",
   "execution_count": 109,
   "id": "4f5b4669",
   "metadata": {},
   "outputs": [
    {
     "data": {
      "text/html": [
       "<div>\n",
       "<style scoped>\n",
       "    .dataframe tbody tr th:only-of-type {\n",
       "        vertical-align: middle;\n",
       "    }\n",
       "\n",
       "    .dataframe tbody tr th {\n",
       "        vertical-align: top;\n",
       "    }\n",
       "\n",
       "    .dataframe thead th {\n",
       "        text-align: right;\n",
       "    }\n",
       "</style>\n",
       "<table border=\"1\" class=\"dataframe\">\n",
       "  <thead>\n",
       "    <tr style=\"text-align: right;\">\n",
       "      <th></th>\n",
       "      <th>Predicted</th>\n",
       "      <th>Original</th>\n",
       "    </tr>\n",
       "  </thead>\n",
       "  <tbody>\n",
       "    <tr>\n",
       "      <th>0</th>\n",
       "      <td>11845.781141</td>\n",
       "      <td>11838.0</td>\n",
       "    </tr>\n",
       "    <tr>\n",
       "      <th>1</th>\n",
       "      <td>9442.209720</td>\n",
       "      <td>9420.0</td>\n",
       "    </tr>\n",
       "    <tr>\n",
       "      <th>2</th>\n",
       "      <td>12096.114788</td>\n",
       "      <td>12057.0</td>\n",
       "    </tr>\n",
       "    <tr>\n",
       "      <th>3</th>\n",
       "      <td>12458.257787</td>\n",
       "      <td>12454.0</td>\n",
       "    </tr>\n",
       "    <tr>\n",
       "      <th>4</th>\n",
       "      <td>4351.542992</td>\n",
       "      <td>4338.0</td>\n",
       "    </tr>\n",
       "    <tr>\n",
       "      <th>...</th>\n",
       "      <td>...</td>\n",
       "      <td>...</td>\n",
       "    </tr>\n",
       "    <tr>\n",
       "      <th>1310</th>\n",
       "      <td>7760.035378</td>\n",
       "      <td>7742.0</td>\n",
       "    </tr>\n",
       "    <tr>\n",
       "      <th>1311</th>\n",
       "      <td>9030.179132</td>\n",
       "      <td>9064.0</td>\n",
       "    </tr>\n",
       "    <tr>\n",
       "      <th>1312</th>\n",
       "      <td>8412.167778</td>\n",
       "      <td>8450.0</td>\n",
       "    </tr>\n",
       "    <tr>\n",
       "      <th>1313</th>\n",
       "      <td>10211.286934</td>\n",
       "      <td>10209.0</td>\n",
       "    </tr>\n",
       "    <tr>\n",
       "      <th>1314</th>\n",
       "      <td>11091.116645</td>\n",
       "      <td>10978.0</td>\n",
       "    </tr>\n",
       "  </tbody>\n",
       "</table>\n",
       "<p>1315 rows × 2 columns</p>\n",
       "</div>"
      ],
      "text/plain": [
       "         Predicted  Original\n",
       "0     11845.781141   11838.0\n",
       "1      9442.209720    9420.0\n",
       "2     12096.114788   12057.0\n",
       "3     12458.257787   12454.0\n",
       "4      4351.542992    4338.0\n",
       "...            ...       ...\n",
       "1310   7760.035378    7742.0\n",
       "1311   9030.179132    9064.0\n",
       "1312   8412.167778    8450.0\n",
       "1313  10211.286934   10209.0\n",
       "1314  11091.116645   10978.0\n",
       "\n",
       "[1315 rows x 2 columns]"
      ]
     },
     "execution_count": 109,
     "metadata": {},
     "output_type": "execute_result"
    }
   ],
   "source": [
    "pd.DataFrame([prediction[:],y_test[:]],index=[\"Predicted\",\"Original\"]).T"
   ]
  },
  {
   "cell_type": "markdown",
   "id": "891533b9",
   "metadata": {},
   "source": [
    "Here we have achieved the predicted and actual values in a dataframe. They are mostly similar."
   ]
  },
  {
   "cell_type": "code",
   "execution_count": 110,
   "id": "57a6a943",
   "metadata": {},
   "outputs": [
    {
     "data": {
      "image/png": "[encoded data removed]",
      "text/plain": [
       "<Figure size 720x360 with 1 Axes>"
      ]
     },
     "metadata": {
      "needs_background": "light"
     },
     "output_type": "display_data"
    }
   ],
   "source": [
    "plt.figure(figsize=(10,5))\n",
    "plt.scatter(y_test, prediction, color='orange')\n",
    "p1 = max(max(prediction), max(y_test))\n",
    "p2 = min(min(prediction), min(y_test))\n",
    "plt.plot([p1, p2], [p1, p2], 'b-')\n",
    "plt.xlabel('Actual')\n",
    "plt.ylabel('Predicted')\n",
    "plt.title(\"GradientBoostingRegressor\")\n",
    "plt.show()"
   ]
  },
  {
   "cell_type": "markdown",
   "id": "8d006ffc",
   "metadata": {},
   "source": [
    "Blue line denotes the actual values and the orange dots are the predicted values."
   ]
  },
  {
   "cell_type": "markdown",
   "id": "206c97a2",
   "metadata": {},
   "source": [
    "# THANK YOU."
   ]
  }
 ],
 "metadata": {
  "kernelspec": {
   "display_name": "Python 3",
   "language": "python",
   "name": "python3"
  },
  "language_info": {
   "codemirror_mode": {
    "name": "ipython",
    "version": 3
   },
   "file_extension": ".py",
   "mimetype": "text/x-python",
   "name": "python",
   "nbconvert_exporter": "python",
   "pygments_lexer": "ipython3",
   "version": "3.8.8"
  }
 },
 "nbformat": 4,
 "nbformat_minor": 5
}
